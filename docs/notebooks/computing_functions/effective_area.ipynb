{
 "cells": [
  {
   "cell_type": "markdown",
   "metadata": {},
   "source": [
    "# Effective Area"
   ]
  },
  {
   "cell_type": "markdown",
   "metadata": {},
   "source": [
    "This example introduces the effective areas for a set of X-Ray Telescope (XRT) channels paired with thicknesses of the CCD contamination layer at a given date."
   ]
  },
  {
   "cell_type": "code",
   "execution_count": null,
   "metadata": {},
   "outputs": [],
   "source": [
    "import xrtpy"
   ]
  },
  {
   "cell_type": "markdown",
   "metadata": {},
   "source": [
    "## Contents\n",
    "\n",
    "1. [Define Filter](#Define-a-filter)\n",
    "2. [Define Date & Time](#Define-a-date-and-time) \n",
    "3. [Effective-Area-Fundamental](#EffectiveAreaFundamental)\n",
    "4. [Effective Area Function](#Effective-Area-function)\n",
    "5. [Plot_Effective_Area](#Plotting-the-Effective-Area)\n"
   ]
  },
  {
   "cell_type": "markdown",
   "metadata": {},
   "source": [
    "## Define a filter"
   ]
  },
  {
   "cell_type": "markdown",
   "metadata": {},
   "source": [
    "[X-Ray Filter Channel]: https://xrtpy.readthedocs.io/en/latest \n",
    "\n",
    "Begin by defining a filter channel by its abbreviation. In this example, we will be exploring aluminum-on-polyimide filter. Reference the [X-Ray Filter Channel] for filter channel information."
   ]
  },
  {
   "cell_type": "code",
   "execution_count": null,
   "metadata": {},
   "outputs": [],
   "source": [
    "Filter = \"Al-poly\""
   ]
  },
  {
   "cell_type": "markdown",
   "metadata": {},
   "source": [
    "## Define a date and time"
   ]
  },
  {
   "cell_type": "markdown",
   "metadata": {},
   "source": [
    "[sunpy-time]: https://docs.sunpy.org/en/stable/guide/time.html\n",
    "\n",
    "The date and time can be defined in many different formats. Examples of date and time strings formats can be found at [sunpy-time]. We are going to explore data a year after the launch date."
   ]
  },
  {
   "cell_type": "code",
   "execution_count": null,
   "metadata": {},
   "outputs": [],
   "source": [
    "date_time = \"2007-09-22T22:59:59\""
   ]
  },
  {
   "cell_type": "markdown",
   "metadata": {},
   "source": [
    "## EffectiveAreaFundamental"
   ]
  },
  {
   "cell_type": "markdown",
   "metadata": {},
   "source": [
    "The `EffectiveAreaFundamental` object is where we find all functions and properties used to calculate the effective area. The `EffectiveAreaFundamental` object is referenced by inserting the defined `Filter` and `date_time`. "
   ]
  },
  {
   "cell_type": "code",
   "execution_count": null,
   "metadata": {},
   "outputs": [],
   "source": [
    "Effective_Area_Fundamental = xrtpy.response.EffectiveAreaFundamental(Filter, date_time)"
   ]
  },
  {
   "cell_type": "markdown",
   "metadata": {},
   "source": [
    "## Effective Area function"
   ]
  },
  {
   "cell_type": "markdown",
   "metadata": {},
   "source": [
    "The effective area function is exercised by referencing the `effective_area()` function in `Effective_Area_Fundamental`. "
   ]
  },
  {
   "cell_type": "code",
   "execution_count": null,
   "metadata": {},
   "outputs": [],
   "source": [
    "effective_area = Effective_Area_Fundamental.effective_area()"
   ]
  },
  {
   "cell_type": "markdown",
   "metadata": {},
   "source": [
    "[astropy-quantity]: https://docs.astropy.org/en/stable/api/astropy.units.quantity.Quantity.html\n",
    "\n",
    "[astropy.units]: https://docs.astropy.org/en/stable/units/index.html\n",
    "\n",
    "\n",
    "The `effective_area` function returns the effective area for a selected filter, date, and time as an [astropy-quantity] with [astropy.units].  \n",
    "  "
   ]
  },
  {
   "cell_type": "code",
   "execution_count": null,
   "metadata": {},
   "outputs": [],
   "source": [
    "print(\"Effective Area:\\n\", effective_area)"
   ]
  },
  {
   "cell_type": "markdown",
   "metadata": {},
   "source": [
    "## Plotting the Effective-Area"
   ]
  },
  {
   "cell_type": "markdown",
   "metadata": {},
   "source": [
    "We are going to plot the effective area versus the wavelength. Define the XRT wavelength in `Effective_Area_Fundamental` by referencing `channel_wavelength`."
   ]
  },
  {
   "cell_type": "code",
   "execution_count": null,
   "metadata": {},
   "outputs": [],
   "source": [
    "wavelength = Effective_Area_Fundamental.channel_wavelength"
   ]
  },
  {
   "cell_type": "markdown",
   "metadata": {},
   "source": [
    "In addition, we are going to plot the effective area relatively close to the spacecraft launch date to analyze any differences in the data. We define the effective area data for the launch date in the same manner as previously shown."
   ]
  },
  {
   "cell_type": "code",
   "execution_count": null,
   "metadata": {},
   "outputs": [],
   "source": [
    "relative_launch_date_time = \"2006-09-22T22:59:59\"\n",
    "EAF_launch_date_time = xrtpy.response.EffectiveAreaFundamental(\n",
    "    Filter, relative_launch_date_time\n",
    ")"
   ]
  },
  {
   "cell_type": "code",
   "execution_count": null,
   "metadata": {},
   "outputs": [],
   "source": [
    "launch_date_effective_area = EAF_launch_date_time.effective_area()"
   ]
  },
  {
   "cell_type": "markdown",
   "metadata": {},
   "source": [
    "Create a plotting function that plots the `effective area`versus `wavelegth`. "
   ]
  },
  {
   "cell_type": "code",
   "execution_count": null,
   "metadata": {},
   "outputs": [],
   "source": [
    "def plot_effective_area():\n",
    "    import matplotlib.pyplot as plt\n",
    "\n",
    "    plt.figure(figsize=(30, 13))\n",
    "\n",
    "    plt.plot(\n",
    "        wavelength,\n",
    "        effective_area,\n",
    "        linewidth=8,\n",
    "        label=\"{:} {:}\".format(Filter, date_time),\n",
    "    )\n",
    "\n",
    "    plt.plot(\n",
    "        wavelength,\n",
    "        launch_date_effective_area,\n",
    "        linewidth=8,\n",
    "        label=\"{:} {:}\".format(Filter, relative_launch_date_time),\n",
    "    )\n",
    "\n",
    "    plt.title(\"X-Ray Telescope\", fontsize=30)\n",
    "    plt.xlabel(\"Wavelength (Å)\", fontsize=30)\n",
    "    plt.ylabel(\"Effective Area ($cm^{2}$)\", fontsize=30)\n",
    "    plt.legend(fontsize=30)\n",
    "\n",
    "    plt.xticks(fontsize=27)\n",
    "    plt.yticks(fontsize=27)\n",
    "    plt.xlim(0, 60)\n",
    "\n",
    "    plt.grid(color=\"lightgrey\")\n",
    "    plt.show()"
   ]
  },
  {
   "cell_type": "markdown",
   "metadata": {},
   "source": [
    "Run `plot_effective_area` function to create the plot."
   ]
  },
  {
   "cell_type": "code",
   "execution_count": null,
   "metadata": {},
   "outputs": [],
   "source": [
    "plot_effective_area()"
   ]
  },
  {
   "cell_type": "markdown",
   "metadata": {},
   "source": [
    "[Montana State University Solar Physics site]: http://solar.physics.montana.edu/HINODE/XRT/xrt_contam_db.html \n",
    "[Narukage et. al. (2011)]: https://doi.org/10.1007/s11207-010-9685-2 \n",
    "\n",
    "Plotting the effective area at launch date and a year after highlights the differences. This is due to the contamination layer thickness on the CCD. Information about the XRT CCD contaminant layer thickness calculation can be found at [Montana State University Solar Physics site]. In addition, more information can be found referencing [Narukage et. al. (2011)]."
   ]
  }
 ],
 "metadata": {
  "kernelspec": {
   "display_name": "Python 3 (ipykernel)",
   "language": "python",
   "name": "python3"
  },
  "language_info": {
   "codemirror_mode": {
    "name": "ipython",
    "version": 3
   },
   "file_extension": ".py",
   "mimetype": "text/x-python",
   "name": "python",
   "nbconvert_exporter": "python",
   "pygments_lexer": "ipython3",
   "version": "3.8.5"
  }
 },
 "nbformat": 4,
 "nbformat_minor": 4
}
