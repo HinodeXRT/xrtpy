{
 "cells": [
  {
   "cell_type": "markdown",
   "metadata": {},
   "source": [
    "# Temperature Response"
   ]
  },
  {
   "cell_type": "markdown",
   "metadata": {},
   "source": [
    "This example introduces the temperature response for a set of X-Ray Telescope (XRT) filter channel, assuming a spectral emission model at a given date and time. Begin by importing packages. "
   ]
  },
  {
   "cell_type": "code",
   "execution_count": null,
   "metadata": {},
   "outputs": [],
   "source": [
    "import xrtpy"
   ]
  },
  {
   "cell_type": "code",
   "execution_count": null,
   "metadata": {},
   "outputs": [],
   "source": [
    "import matplotlib.pyplot as plt\n",
    "import numpy as np"
   ]
  },
  {
   "cell_type": "markdown",
   "metadata": {},
   "source": [
    "## Contents\n",
    "\n",
    "1. [Define Filter](#Define-a-filter)\n",
    "2. [Define Date & Time](#Define-a-date-and-time) \n",
    "3. [Temperature-Response-Fundamental](#TemperatureResponseFundamental)\n",
    "4. [Temperature Response Function](#Temperature-Response-function)\n",
    "5. [Plot Temperature Response](#Plotting-the-Temperature-Response)\n"
   ]
  },
  {
   "cell_type": "markdown",
   "metadata": {},
   "source": [
    "## Define a filter"
   ]
  },
  {
   "cell_type": "markdown",
   "metadata": {},
   "source": [
    "[xrtpy]: https://xrtpy.readthedocs.io/en/latest\n",
    "\n",
    "Define a filter channel by its common abbreviation. In this example, we will be exploring the carbon-on-polyimide filter. Reference `X-Ray Filter Channel` for filter channel information."
   ]
  },
  {
   "cell_type": "code",
   "execution_count": null,
   "metadata": {},
   "outputs": [],
   "source": [
    "filter = \"C-poly\""
   ]
  },
  {
   "cell_type": "markdown",
   "metadata": {},
   "source": [
    "## Define a date and time"
   ]
  },
  {
   "cell_type": "markdown",
   "metadata": {},
   "source": [
    "[sunpy-time]: https://docs.sunpy.org/en/stable/guide/time.html\n",
    "\n",
    "The date and time is defined together. Examples of date and time strings formats can be found at [sunpy-time]. We are going to explore data a year after the spacecraft launch date.\n"
   ]
  },
  {
   "cell_type": "code",
   "execution_count": null,
   "metadata": {},
   "outputs": [],
   "source": [
    "date_time = \"2007-09-22T22:00:00\""
   ]
  },
  {
   "cell_type": "markdown",
   "metadata": {},
   "source": [
    "## TemperatureResponseFundamental"
   ]
  },
  {
   "cell_type": "markdown",
   "metadata": {},
   "source": [
    "The `TemperatureResponseFundamental` object is where we find all functions and properties used to calculate the temperature response. The `xrtpy.response.TemperatureResponseFundamental` object is referenced by inserting the defined `filter` and `date_time`. "
   ]
  },
  {
   "cell_type": "code",
   "execution_count": null,
   "metadata": {},
   "outputs": [],
   "source": [
    "Temperature_Response_Fundamental = xrtpy.response.TemperatureResponseFundamental(\n",
    "    filter, date_time\n",
    ")"
   ]
  },
  {
   "cell_type": "markdown",
   "metadata": {},
   "source": [
    "## Temperature Response function"
   ]
  },
  {
   "cell_type": "markdown",
   "metadata": {},
   "source": [
    "The temperature response function is exercised by referencing the `temperature_response()` function in `Temperature_Response_Fundamental`. "
   ]
  },
  {
   "cell_type": "code",
   "execution_count": null,
   "metadata": {},
   "outputs": [],
   "source": [
    "temperature_response = Temperature_Response_Fundamental.temperature_response()"
   ]
  },
  {
   "cell_type": "markdown",
   "metadata": {},
   "source": [
    "[astropy-quantity]: https://docs.astropy.org/en/stable/api/astropy.units.quantity.Quantity.html\n",
    "\n",
    "[astropy.units]: https://docs.astropy.org/en/stable/units/index.html\n",
    "\n",
    "\n",
    "The `temperature_response` function returns the temperature response for a selected filter, date, and time as an [astropy-quantity] with [astropy.units].  \n",
    "  "
   ]
  },
  {
   "cell_type": "code",
   "execution_count": null,
   "metadata": {},
   "outputs": [],
   "source": [
    "print(\"Temperature Response:\\n\", temperature_response)"
   ]
  },
  {
   "cell_type": "markdown",
   "metadata": {},
   "source": [
    "## Plotting the Temperature-Response"
   ]
  },
  {
   "cell_type": "markdown",
   "metadata": {},
   "source": [
    "[chiantidatrbase.org]: https://www.chiantidatabase.org/\n",
    "\n",
    "We are going to plot the `temperature_response` function versus the temperatures. The XRT uses chianti for a set of temperatures based on abundance assumptions. More information about the chianti database can be found at [chiantidatrbase.org]."
   ]
  },
  {
   "cell_type": "markdown",
   "metadata": {},
   "source": [
    "The CHIANTI temperatures exist in the `Temperature_Response_Fundamental` object in units of Kelvin (K). These temperatures are independent of the filter channel."
   ]
  },
  {
   "cell_type": "code",
   "execution_count": null,
   "metadata": {},
   "outputs": [],
   "source": [
    "CHIANTI_temperature = Temperature_Response_Fundamental.CHIANTI_temperature"
   ]
  },
  {
   "cell_type": "markdown",
   "metadata": {},
   "source": [
    "[numpy.log10]: https://numpy.org/doc/stable/reference/generated/numpy.log10.html\n",
    "\n",
    "The `CHIANTI_temperature` values are logged for scaling."
   ]
  },
  {
   "cell_type": "code",
   "execution_count": null,
   "metadata": {},
   "outputs": [],
   "source": [
    "log_CHIANTI_temperature = np.log10(CHIANTI_temperature.value)"
   ]
  },
  {
   "cell_type": "markdown",
   "metadata": {},
   "source": [
    "In addition, we are going to plot the temperature response near the spacecraft launch date to analyze any difference in the data.  We define the temperature response data for the launch date in the same manner as previously shown. "
   ]
  },
  {
   "cell_type": "code",
   "execution_count": null,
   "metadata": {},
   "outputs": [],
   "source": [
    "launch_date_time = \"2006-09-22T22:00:00\""
   ]
  },
  {
   "cell_type": "code",
   "execution_count": null,
   "metadata": {},
   "outputs": [],
   "source": [
    "TRF = xrtpy.response.TemperatureResponseFundamental(filter, launch_date_time)\n",
    "launch_date_temperature_response = TRF.temperature_response()"
   ]
  },
  {
   "cell_type": "markdown",
   "metadata": {},
   "source": [
    "Create a plotting function that plots the `temperature_response` and `launch_date_temperature_response` versus `log_CHIANTI_temperature` for the chosen filter, date, and time. "
   ]
  },
  {
   "cell_type": "code",
   "execution_count": null,
   "metadata": {},
   "outputs": [],
   "source": [
    "def plotting_temperature_response():\n",
    "\n",
    "    plt.figure(figsize=(30, 12))\n",
    "\n",
    "    plt.plot(\n",
    "        log_CHIANTI_temperature,\n",
    "        np.log10(launch_date_temperature_response.value),\n",
    "        label=\"{:} {:}\".format(filter, launch_date_time),\n",
    "        color=\"red\",\n",
    "    )\n",
    "\n",
    "    plt.plot(\n",
    "        log_CHIANTI_temperature,\n",
    "        np.log10(temperature_response.value),\n",
    "        label=\"{:} {:}\".format(filter, date_time),\n",
    "    )\n",
    "\n",
    "    plt.title(\"XRT Temperature Response\", fontsize=30)\n",
    "    plt.xlabel(\" $log$( temperature ($K$) ) \", fontsize=27)\n",
    "    plt.ylabel(\" $log$($DN$ $cm^5$ $ s^-1$ $pix^-1$)\", fontsize=27)\n",
    "    plt.legend(fontsize=30)\n",
    "\n",
    "    plt.xticks(fontsize=25)\n",
    "    plt.yticks(fontsize=25)\n",
    "\n",
    "    plt.grid()\n",
    "    plt.show()"
   ]
  },
  {
   "cell_type": "markdown",
   "metadata": {},
   "source": [
    "Run `plotting_temperature_response` function to create the plot."
   ]
  },
  {
   "cell_type": "code",
   "execution_count": null,
   "metadata": {
    "tags": [
     "nbsphinx-thumbnail"
    ]
   },
   "outputs": [],
   "source": [
    "plotting_temperature_response()"
   ]
  },
  {
   "cell_type": "markdown",
   "metadata": {},
   "source": [
    "[Montana State University Solar Physics site]: http://solar.physics.montana.edu/HINODE/XRT/xrt_contam_db.html\n",
    "[Narukage et. al. (2011)]: https://doi.org/10.1007/s11207-010-9685-2\n",
    "\n",
    "Plotting the temperature response at launch date and a year after highlights the differences. This is due to the contamination layer thickness on the CCD. Information about the XRT CCD contaminant layer thickness calculation can be found at [Montana State University Solar Physics site]. In addition, more information can be found referencing [Narukage et. al. (2011)]."
   ]
  }
 ],
 "metadata": {
  "celltoolbar": "Tags",
  "kernelspec": {
   "display_name": "Python 3",
   "language": "python",
   "name": "python3"
  },
  "language_info": {
   "codemirror_mode": {
    "name": "ipython",
    "version": 3
   },
   "file_extension": ".py",
   "mimetype": "text/x-python",
   "name": "python",
   "nbconvert_exporter": "python",
   "pygments_lexer": "ipython3",
   "version": "3.8.5"
  }
 },
 "nbformat": 4,
 "nbformat_minor": 4
}
