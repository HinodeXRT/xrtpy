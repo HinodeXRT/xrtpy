{
 "cells": [
  {
   "cell_type": "markdown",
   "id": "5889d1e9",
   "metadata": {},
   "source": [
    "[Hinode X-Ray Telescope]:https://xrt.cfa.harvard.edu/\n",
    "\n",
    "# Hinode-XRT: A Practical Guide to Data Extraction and Visualization\n",
    "\n",
    "This notebook provides a step-by-step guide on how to download, process, and visualize solar observation data from the [Hinode X-Ray Telescope], making it accessible for research and analysis.\n",
    "\n",
    "*Created by Joy Velasquez. Version 1 - February 29, 2024*"
   ]
  },
  {
   "cell_type": "markdown",
   "id": "2c79b374",
   "metadata": {},
   "source": [
    "## Introduction\n",
    "\n",
    "This notebook is designed as a preliminary guide to handle solar observation data specifically from the Hinode X-Ray Telescope (XRT). While this example does not directly utilize `xrtpy` functionalities, it lays the groundwork for handling and understanding XRT data, which can be further processed and analyzed using `xrtpy`.\n",
    "\n",
    "Here's what we'll cover:\n",
    "- **Downloading XRT Data**: Step-by-step instructions to download XRT data for a specified period of interest.\n",
    "- **Data Filtering**: Use custom functions for filtering and refining the downloaded data.\n",
    "- **Visualization and Movie Creation**: Explore methods to visualize the data and compile it into movie format, providing a dynamic view of solar observations.\n",
    "\n",
    "Whether for research analysis or as a stepping stone to using `xrtpy` for more advanced applications, this guide aims to equip you with the fundamental skills necessary for effective data manipulation and visualization in solar physics. \n"
   ]
  },
  {
   "cell_type": "markdown",
   "id": "99e5293f",
   "metadata": {},
   "source": [
    "## Table of Contents\n",
    "1. [Importing Necessary Packages](#importing-necessary-packages)\n",
    "2. [Using Fido to Search and Download XRT Data](#using-fido-to-search-and-download-xrt-data)\n",
    "3. [Inspecting the Downloaded Data](#inspecting-the-downloaded-data)\n",
    "4. [Exploring Functions to Enhance Data Quality](#exploring-functions-to-enhance-data-quality)\n",
    "   - 4.1 [Filtering FITS Files Through Selected Filter](#filtering-fits-files-through-selected-filter)\n",
    "   - 4.2 [Filtering FITS Files Through Pixel Size](#filtering-fits-files-through-pixel-size)\n",
    "   - 4.3 [Filtering FITS Files by Exposure Time](#filtering-fits-files-by-exposure-time)\n",
    "5. [Navigating FITS Images](#navigating-fits-images)\n",
    "6. [Removing Unwanted FITS Files](#removing-unwanted-fits-files)\n",
    "7. [Visualizing Solar Dynamics by Creating a Movie from XRT FITS Data](#visualizing-solar-dynamics-by-creating-a-movie-from-xrt-fits-data)\n"
   ]
  },
  {
   "cell_type": "markdown",
   "id": "b8c49bf6",
   "metadata": {},
   "source": [
    "### Importing Necessary Packages"
   ]
  },
  {
   "cell_type": "markdown",
   "id": "76671fc6",
   "metadata": {},
   "source": [
    "Before we begin, let's import all the necessary Python packages and modules required for this notebook. Key packages include:\n",
    "\n",
    "- `sunpy`: An open-source Python library for Solar Physics data analysis.\n",
    "- `matplotlib`: A library for creating static, animated, and interactive visualizations in Python.\n",
    "- `astropy`: Used for astronomy and astrophysics data processing.\n",
    "\n",
    "These packages, among others, will enable us to download, inspect, filter, and visualize the XRT data effectively.\n"
   ]
  },
  {
   "cell_type": "code",
   "execution_count": null,
   "id": "cbbd8a2d",
   "metadata": {},
   "outputs": [],
   "source": [
    "# Standard library imports for file and temporary directory management\n",
    "import os\n",
    "import tempfile\n",
    "\n",
    "# Counting occurrences of unique elements\n",
    "# creating and managing images and videos\n",
    "import imageio\n",
    "import ipywidgets as widgets\n",
    "import matplotlib.pyplot as plt\n",
    "\n",
    "# SunPy library for solar physics data analysis\n",
    "import sunpy.map\n",
    "\n",
    "# Astropy units module for handling physical quantities\n",
    "from astropy import units as u\n",
    "\n",
    "# IPython and ipywidgets for interactive widgets in the notebook\n",
    "from IPython.display import (\n",
    "    Video,  # For embedding videos in the notebook\n",
    "    clear_output,\n",
    "    display,\n",
    ")\n",
    "\n",
    "# SunPy modules for querying and downloading solar data\n",
    "from sunpy.net import Fido\n",
    "from sunpy.net import attrs as a\n",
    "\n",
    "# #******************************************\n",
    "# #Command to ensure necessary libraries are installed (uncomment and run if needed)\n",
    "# !pip install sunpy matplotlib imageio ipywidgets\n",
    "# #******************************************"
   ]
  },
  {
   "cell_type": "markdown",
   "id": "b5ef5aa9",
   "metadata": {},
   "source": [
    "\n",
    "## Using Fido to Search and Download XRT Data"
   ]
  },
  {
   "cell_type": "markdown",
   "id": "2420734d",
   "metadata": {},
   "source": [
    "[SunPy]:https://sunpy.org/\n",
    "[Fido]:https://docs.sunpy.org/en/stable/generated/api/sunpy.net.Fido.html#sunpy.net.Fido\n",
    "\n",
    "### Searching for Hinode XRT Data\n",
    "\n",
    "[Fido] is a unified interface provided by [SunPy] for querying and downloading data across various solar physics data sources and missions. In this section, we'll focus on using Fido to find and retrieve data from the Hinode X-Ray Telescope (XRT).\n",
    "\n",
    "We'll walk through the process of defining a search query, which includes specifying a time range and selecting the instrument, to fetch targeted datasets effectively. "
   ]
  },
  {
   "cell_type": "markdown",
   "id": "107d208b",
   "metadata": {},
   "source": [
    "In this section, we'll focus on the observation of [Active Region (AR) 13234](https://www.solarmonitor.org/region_pop.php?date=20230223&type=hxrt_flter&region=13234) by Hinode-XRT. Recorded on May 21, 2023, around 18:51 UT, this region, located near the solar limb, showcased active flaring activities, presenting an intriguing case for study.\n",
    "\n",
    "For those interested in further exploring flare activities observed by the Hinode mission, the [XRT Flare Catalog](https://xrt.cfa.harvard.edu/flare_catalog/) offers a comprehensive database.\n"
   ]
  },
  {
   "cell_type": "code",
   "execution_count": null,
   "id": "e05834db",
   "metadata": {},
   "outputs": [],
   "source": [
    "# Define the time range of interest for solar observations\n",
    "time_range = a.Time(\"2021-05-21 18:51:00\", \"2021-05-22 01:59:54\")\n",
    "\n",
    "# Specify the instrument as 'xrt' to search for Hinode X-Ray Telescope data\n",
    "instrument = a.Instrument(\"xrt\")\n",
    "\n",
    "\n",
    "# This will return a catalog of available XRT data during the specified period\n",
    "xrt_downloaded_files = Fido.search(time_range, instrument)\n",
    "\n",
    "# Display the search results\n",
    "print(xrt_downloaded_files)"
   ]
  },
  {
   "cell_type": "markdown",
   "id": "af5e9f4d",
   "metadata": {},
   "source": [
    "#### Downloading Hinode XRT Data Using `Fido.fetch`\n",
    "\n",
    "Having identified the desired Hinode XRT data with `Fido.search`, we proceed to download the datasets using the `Fido.fetch` function. This function accepts the search results as its input and facilitates the data download to a designated directory on your local system.\n",
    "\n",
    "In the next code cell, we illustrate the utilization of `Fido.fetch` to procure our previously identified data. This demonstration includes specifying a target directory for the downloads. Additionally, we'll introduce handling techniques for managing the download outputs.\n",
    "\n",
    "**Note**: If no directory is specified, `Fido.fetch` defaults to downloading files to a SunPy-managed directory. You can customize the download location by providing a path to the `path` parameter of `Fido.fetch`.\n"
   ]
  },
  {
   "cell_type": "code",
   "execution_count": null,
   "id": "6c241846",
   "metadata": {
    "scrolled": false
   },
   "outputs": [],
   "source": [
    "# Note: Depending on the amount of data and network speed, this process can take some time.\n",
    "# The `progress` parameter in `Fido.fetch` controls the display of the download progress bar.\n",
    "# Setting `progress=False` disables the progress bar, which can be useful for cleaner output,\n",
    "# especially when running this in a script or automated pipeline. By default, we keep it True\n",
    "# for this interactive session to monitor the download progress.\n",
    "\n",
    "# This will download the files to the default SunPy data directory or a specified path.\n",
    "# Replace `xrt_downloaded_files` with your search results variable if different.\n",
    "xrt_files_results = Fido.fetch(xrt_downloaded_files, progress=True)\n",
    "\n",
    "# If you wish to specify a different download directory, you can do so by adding the `path` parameter:\n",
    "# xrt_files_results = Fido.fetch(xrt_downloaded_files, path='/desired/download/directory/', progress=True)"
   ]
  },
  {
   "cell_type": "markdown",
   "id": "4dc907b5",
   "metadata": {},
   "source": [
    "XRT follows standard Flexible Image Transport System ([FITS](https://fits.gsfc.nasa.gov/)) file naming conventions.\n"
   ]
  },
  {
   "cell_type": "markdown",
   "id": "22f2b99e",
   "metadata": {},
   "source": [
    "\n",
    "## Inspecting the Downloaded Data"
   ]
  },
  {
   "cell_type": "markdown",
   "id": "33d78610",
   "metadata": {},
   "source": [
    "Once the download is complete, it's important to inspect the data to ensure that what we have collected is suitable for our analysis. This step involves checking the basic information about the downloaded files, such as their names, file sizes, and data types. This information can help us verify that the download was successful and that we have the correct data for our project.\n",
    "\n",
    "We will demonstrate practical methods to retrieve and display these details using Python's standard utilities along with SunPy-specific functions."
   ]
  },
  {
   "cell_type": "code",
   "execution_count": null,
   "id": "66441923",
   "metadata": {},
   "outputs": [],
   "source": [
    "# total number of files downloaded using Fido\n",
    "num_files = len(xrt_files_results)\n",
    "print(f\"Number of files downloaded: {num_files}\")\n",
    "\n",
    "# few examples of file names to understand the naming convention\n",
    "print(\"\\nSample file names:\")\n",
    "for file in xrt_files_results[:5]:\n",
    "    print(file)\n",
    "\n",
    "# Example of inspecting a single file from the downloaded dataset\n",
    "# Here, we choose a file arbitrarily (the 85th file) for inspection\n",
    "sample_file_index = 84  # Adjust the index as desired\n",
    "sample_data = sunpy.map.Map(xrt_files_results[sample_file_index])\n",
    "\n",
    "# Print information about the sample file\n",
    "# This includes metadata like observation time, instrument, and data dimensions\n",
    "print(f\"\\nSample data info for file number {sample_file_index + 1}:\")\n",
    "print(sample_data)\n",
    "\n",
    "# Visualize the data from the sample file\n",
    "# This step is crucial for a quick quality check and to familiarize with the data\n",
    "plt.figure(figsize=(10, 8))\n",
    "sample_data.peek()  # 'peek' method generates a quick-look plot of the data\n",
    "plt.show()"
   ]
  },
  {
   "cell_type": "markdown",
   "id": "bd7f1676",
   "metadata": {},
   "source": [
    "Having successfully collected the Hinode-XRT data, we now have several exciting options at our disposal. We can analyze the FITS files to understand the solar phenomena, visualize the observations in image form, or even create a dynamic movie showcasing a solar event. However, we can take further step towards cleaning up some of the data we have downloaded following the *Exploring Functions to Enhance Data Quality* sections below, which is **optional**. "
   ]
  },
  {
   "cell_type": "markdown",
   "id": "f926c721",
   "metadata": {},
   "source": [
    "\n",
    "## Exploring Functions to Enhance Data Quality"
   ]
  },
  {
   "cell_type": "markdown",
   "id": "73757bf1",
   "metadata": {},
   "source": [
    "In the following sections, I introduce a series of custom functions aimed at filtering and refining the downloaded Hinode-XRT data. These functions are designed to be user-friendly and accessible, serving as a practical toolset for both novice and experienced users. \n",
    "\n",
    "\n",
    "\n",
    "### Why Enhance Data Quality?\n",
    "\n",
    "The Sun, as observed by Hinode-XRT, presents dynamic and complex phenomena. Filtering the data helps isolate specific events or features, ensuring that subsequent analyses or visualizations focus on the most relevant and high-quality data. These enhancements are **optional** but highly recommended to achieve a clearer, more meaningful understanding of the solar data collected.\n"
   ]
  },
  {
   "cell_type": "markdown",
   "id": "833a6cc1",
   "metadata": {},
   "source": [
    "\n",
    "### Filtering FITS Files Through Selected Filter"
   ]
  },
  {
   "cell_type": "markdown",
   "id": "62e7c934",
   "metadata": {},
   "source": [
    "Identifying the type of data contained within Hinode XRT FITS files can be challenging, as the file titles do not provide sufficient information. To address this, I have developed a function that leverages `sunpy.map` to read the header information of each FITS file. This process allows us to identify and count the unique filters present within the dataset. \n",
    "\n",
    "To utilize this function, simply run the provided code in the next cell. When prompted, enter your desired filter criteria. This intuitive approach enables you to effectively narrow down your dataset to include only the most relevant observations for your analysis."
   ]
  },
  {
   "cell_type": "code",
   "execution_count": null,
   "id": "20262c07",
   "metadata": {},
   "outputs": [],
   "source": [
    "def normalize_string(s):\n",
    "    \"\"\"\n",
    "    Normalize a string for comparison by converting to lowercase, replacing hyphens and underscores with spaces, and removing 'open'.\n",
    "\n",
    "    Parameters:\n",
    "    - s (str): The string to normalize.\n",
    "\n",
    "    Returns:\n",
    "    - str: The normalized string.\n",
    "    \"\"\"\n",
    "    return (\n",
    "        s.lower()\n",
    "        .replace(\"open\", \"\")\n",
    "        .strip(\"- \")\n",
    "        .replace(\"_\", \" \")\n",
    "        .replace(\"-\", \" \")\n",
    "        .strip()\n",
    "    )\n",
    "\n",
    "\n",
    "## I have plans to update this function at a later time to allow users to collect FITS for more than one filter.\n",
    "\n",
    "\n",
    "def filter_fits_files_by_XRT_filter(fits_files):\n",
    "    \"\"\"\n",
    "    Filters FITS files by XRT filter criteria, accommodating flexible user input formats. It enhances readability and ensures valid input by normalizing filter names.\n",
    "\n",
    "    Parameters:\n",
    "    - fits_files (list): List of FITS file paths.\n",
    "\n",
    "    Returns:\n",
    "    - filtered_files (list): List of file paths that match the user-selected XRT channel filter.\n",
    "\n",
    "    Raises:\n",
    "    - ValueError: If the user input does not match any available filter.\n",
    "    \"\"\"\n",
    "    measurement_info = {}\n",
    "\n",
    "    for file_path in fits_files:\n",
    "        from sunpy.map import Map\n",
    "\n",
    "        sunpy_map = Map(file_path)\n",
    "        measurement = sunpy_map.measurement\n",
    "        # Normalize measurement for consistent comparison\n",
    "        normalized_measurement = normalize_string(measurement)\n",
    "        if normalized_measurement in measurement_info:\n",
    "            measurement_info[normalized_measurement] += 1\n",
    "        else:\n",
    "            measurement_info[normalized_measurement] = 1\n",
    "\n",
    "    # Display available filters and their counts\n",
    "    filters_output = \"\\n\".join(\n",
    "        [f\"{key.title()}: {value} files\" for key, value in measurement_info.items()]\n",
    "    )\n",
    "    print(f\"The files have the following filters and counts:\\n{filters_output}\")\n",
    "    filter_choice = input(\"Please select an XRT channel filter of interest: \")\n",
    "    normalized_filter_choice = normalize_string(filter_choice)\n",
    "\n",
    "    # Validate user input\n",
    "    if normalized_filter_choice not in measurement_info:\n",
    "        raise ValueError(\n",
    "            \"Invalid filter choice. Please enter a valid XRT channel filter from the list provided.\"\n",
    "        )\n",
    "\n",
    "    filtered_files = []\n",
    "    for file_path in fits_files:\n",
    "        sunpy_map = Map(file_path)\n",
    "        normalized_measurement = normalize_string(sunpy_map.measurement)\n",
    "        if normalized_filter_choice in normalized_measurement:\n",
    "            filtered_files.append(file_path)\n",
    "\n",
    "    name_of_filter = filter_choice.title()\n",
    "    print(f\"\\nFilter choice: {name_of_filter}\")\n",
    "    print(\n",
    "        f\"You have {len(filtered_files)} FITS files that match the '{name_of_filter}' filter.\"\n",
    "    )\n",
    "    print(\"Be sure to store this data as a new variable.\")\n",
    "\n",
    "    return filtered_files"
   ]
  },
  {
   "cell_type": "markdown",
   "id": "1539a632",
   "metadata": {},
   "source": [
    "In this example, we'll be investigating the `Al-Poly` filter on the XRT.  "
   ]
  },
  {
   "cell_type": "code",
   "execution_count": null,
   "id": "122165bc",
   "metadata": {},
   "outputs": [],
   "source": [
    "# Assuming xrt_files_results is a list of FITS file paths\n",
    "# My new variable name is reflected base on the filter of interest\n",
    "xrt_Al_poly_Obs_FITs = filter_fits_files_by_XRT_filter(xrt_files_results)"
   ]
  },
  {
   "cell_type": "markdown",
   "id": "942fec9e",
   "metadata": {},
   "source": [
    "\n",
    "### Filtering FITS Files Through Pixel Size"
   ]
  },
  {
   "cell_type": "markdown",
   "id": "f9a8251f",
   "metadata": {},
   "source": [
    "Filtering Hinode XRT FITS files by pixel dimensions, measured in units of pixels (`pix`), is a practical approach to ensure data uniformity. We refer to these **dimensions** within the context of `sunpy.map.Map`.\n",
    "\n",
    "XRT images typically have dimensions of `[384x384, 512x512, or 1024x1024]`, although any specific area of the CCD can be read out. For comprehensive details, please refer to the [SolarSoft XRT Analysis Guide](https://xrt.cfa.harvard.edu/resources/documents/XAG/XAG.pdf).\n"
   ]
  },
  {
   "cell_type": "markdown",
   "id": "d233ee89",
   "metadata": {},
   "source": [
    "The function `filter_fits_files_by_XRT_dimensions` simplifies the process of selecting FITS files based on pixel dimensions. Upon running this function, you'll encounter a prompt displaying the available dimensions within your dataset. After selecting a preferred option, the function will generate a new list of FITS files filtered according to the specified dimensions. To utilize this functionality, execute the function in the cell below and follow the instructions in the subsequent steps."
   ]
  },
  {
   "cell_type": "code",
   "execution_count": null,
   "id": "fca60980",
   "metadata": {},
   "outputs": [],
   "source": [
    "def filter_fits_files_by_XRT_dimensions(fits_files):\n",
    "    \"\"\"\n",
    "    Filters FITS files by their dimensions, allowing for flexible input formatting.\n",
    "    Provides up to three attempts for input, with error handling for invalid formats.\n",
    "\n",
    "    Parameters:\n",
    "    - fits_files (list): List of paths to the FITS files.\n",
    "\n",
    "    Returns:\n",
    "    - A list of file paths that match the user-selected dimensions.\n",
    "    \"\"\"\n",
    "    dimension_counts = {}\n",
    "\n",
    "    # Determine the unique dimensions of all FITS files and count them\n",
    "    for file_path in fits_files:\n",
    "        xrt_map = sunpy.map.Map(file_path)\n",
    "        # Construct a tuple for dimensions to facilitate comparison\n",
    "        dimensions_tuple = (xrt_map.dimensions.x.value, xrt_map.dimensions.y.value)\n",
    "        dimensions_str = f\"{dimensions_tuple[0]:.0f}, {dimensions_tuple[1]:.0f}\"\n",
    "        dimension_counts[dimensions_str] = dimension_counts.get(dimensions_str, 0) + 1\n",
    "\n",
    "    print(\n",
    "        \"Unique dimensions (in pixels) found in the dataset and their counts:\\n x:pix , y:pix\"\n",
    "    )\n",
    "    for dimensions, count in sorted(dimension_counts.items()):\n",
    "        print(f\"{dimensions}: {count} files\")\n",
    "\n",
    "    attempts = 0\n",
    "    while attempts < 3:\n",
    "        chosen_dimensions_str = input(\n",
    "            \"\\nPlease enter the dimensions of interest (e.g., '384, 384'): \"\n",
    "        )\n",
    "        try:\n",
    "            x_dim, y_dim = (\n",
    "                int(dim.strip()) for dim in chosen_dimensions_str.split(\",\")\n",
    "            )\n",
    "            chosen_dimensions_tuple = (x_dim, y_dim)\n",
    "            chosen_dimensions_str = (\n",
    "                f\"{x_dim}, {y_dim}\"  # Reformatted string for comparison\n",
    "            )\n",
    "        except ValueError:\n",
    "            print(\"Invalid format. Please enter dimensions in the format 'X, Y'.\")\n",
    "            attempts += 1\n",
    "            continue\n",
    "\n",
    "        # Check if the processed input matches any known dimensions\n",
    "        if chosen_dimensions_str in dimension_counts:\n",
    "            break  # Valid dimension found; proceed with filtering\n",
    "\n",
    "        print(f\"Error: '{chosen_dimensions_str}' is not a recognized dimension.\")\n",
    "        attempts += 1\n",
    "\n",
    "    if attempts == 3:\n",
    "        print(\"\\nMaximum attempts reached. Please rerun and try again.\\n\")\n",
    "        return []\n",
    "\n",
    "    filtered_files = []\n",
    "    for file_path in fits_files:\n",
    "        xrt_map = sunpy.map.Map(file_path)\n",
    "        if (\n",
    "            xrt_map.dimensions.x.value,\n",
    "            xrt_map.dimensions.y.value,\n",
    "        ) == chosen_dimensions_tuple:\n",
    "            filtered_files.append(file_path)\n",
    "\n",
    "    print(\n",
    "        f\"\\nFound {len(filtered_files)} files matching the dimensions {chosen_dimensions_str}.\"\n",
    "    )\n",
    "    return filtered_files"
   ]
  },
  {
   "cell_type": "code",
   "execution_count": null,
   "id": "d97daba4",
   "metadata": {},
   "outputs": [],
   "source": [
    "# For this example, I will continue to use xrt_Al_poly_Obs_FITs. The function will prompt you to select from\n",
    "# available dimensions and return a new list containing only the files that match the selected dimensions.\n",
    "\n",
    "\n",
    "# Now, call the function with your list of FITS file paths:\n",
    "xrt_Al_poly_384_Obs_FITs = filter_fits_files_by_XRT_dimensions(xrt_Al_poly_Obs_FITs)"
   ]
  },
  {
   "cell_type": "markdown",
   "id": "3d418012",
   "metadata": {},
   "source": [
    "### Filtering FITS Files by Exposure Time\n",
    "\n",
    "Different exposure times can significantly affect the quality and the type of data captured in each image. This section introduces a method to filter your dataset based on specific exposure time criteria, allowing for a more refined and targeted analysis.\n",
    "\n",
    "#### Why Filter by Exposure Time?\n",
    "\n",
    "Filtering by exposure time can help isolate images that are best suited for your research goals. For instance, shorter exposure times might be preferred for studying rapid solar events, while longer exposures could provide deeper insights into fainter solar features. This flexibility ensures that you can tailor your dataset to include only the most relevant images.\n",
    "\n",
    "#### How It Works\n",
    "\n",
    "The `filter_fits_by_exposure_time` function enables you to specify criteria for selecting images based on their exposure times. You can choose to include images with an exact exposure time, those with exposure times within a specified range, or images with exposure times above or below a certain threshold. This functionality is designed to give you maximum control over the composition of your dataset.\n",
    "\n",
    "#### Key Features:\n",
    "- **Exact Match**: Retrieve images with a specific exposure time by entering the exact value in seconds.\n",
    "- **Range Selection**: Specify a range of exposure times to include images that fall within this interval.\n",
    "- **Above or Below a Threshold**: Filter images based on whether their exposure times are above or below a specified value.\n",
    "\n"
   ]
  },
  {
   "cell_type": "code",
   "execution_count": null,
   "id": "b2136b56",
   "metadata": {},
   "outputs": [],
   "source": [
    "def get_exposure_time_counts(fits_files):\n",
    "    \"\"\"\n",
    "    Generates a dictionary of exposure times and their counts from FITS files.\n",
    "\n",
    "    Parameters:\n",
    "    - fits_files (list): List of FITS file paths.\n",
    "\n",
    "    Returns:\n",
    "    - Dictionary with exposure times as keys and counts and file paths as values.\n",
    "    \"\"\"\n",
    "    exposure_time_counts = {}\n",
    "    for file_path in fits_files:\n",
    "        map_ = sunpy.map.Map(file_path)\n",
    "        exposure_time = round(map_.exposure_time.to(u.s).value, 2)\n",
    "        if exposure_time not in exposure_time_counts:\n",
    "            exposure_time_counts[exposure_time] = {\"count\": 1, \"files\": [file_path]}\n",
    "        else:\n",
    "            exposure_time_counts[exposure_time][\"count\"] += 1\n",
    "            exposure_time_counts[exposure_time][\"files\"].append(file_path)\n",
    "    return exposure_time_counts\n",
    "\n",
    "\n",
    "def display_exposure_time_counts(exposure_time_counts):\n",
    "    \"\"\"\n",
    "    Displays the exposure times and their counts.\n",
    "\n",
    "    Parameters:\n",
    "    - exposure_time_counts (dict): Dictionary of exposure times and their counts.\n",
    "    \"\"\"\n",
    "    print(\"Exposure times in the dataset (in seconds) and their counts:\")\n",
    "    for time, info in exposure_time_counts.items():\n",
    "        print(f\"{time}s: {info['count']} file(s)\")\n",
    "\n",
    "\n",
    "def filter_files_by_criteria(exposure_time_counts, criteria):\n",
    "    \"\"\"\n",
    "    Filters FITS files based on user-specified exposure time criteria.\n",
    "\n",
    "    Parameters:\n",
    "    - exposure_time_counts (dict): Dictionary of exposure times and their counts.\n",
    "    - criteria (str): User-specified exposure time criteria.\n",
    "\n",
    "    Returns:\n",
    "    - List of FITS file paths that match the exposure time criteria.\n",
    "    \"\"\"\n",
    "    filtered_files = []\n",
    "    if \"-\" in criteria:\n",
    "        lower, upper = map(float, criteria.split(\"-\"))\n",
    "        for time, info in exposure_time_counts.items():\n",
    "            if lower <= time <= upper:\n",
    "                filtered_files.extend(info[\"files\"])\n",
    "    elif criteria.startswith(\"<\"):\n",
    "        max_time = float(criteria[1:])\n",
    "        for time, info in exposure_time_counts.items():\n",
    "            if time < max_time:\n",
    "                filtered_files.extend(info[\"files\"])\n",
    "    elif criteria.startswith(\">\"):\n",
    "        min_time = float(criteria[1:])\n",
    "        for time, info in exposure_time_counts.items():\n",
    "            if time > min_time:\n",
    "                filtered_files.extend(info[\"files\"])\n",
    "    else:\n",
    "        exact_time = float(criteria)\n",
    "        for time, info in exposure_time_counts.items():\n",
    "            if time == exact_time:\n",
    "                filtered_files.extend(info[\"files\"])\n",
    "    return filtered_files\n",
    "\n",
    "\n",
    "def filter_fits_by_exposure_time(fits_files):\n",
    "    \"\"\"\n",
    "    Filters FITS files based on exposure time criteria specified by the user.\n",
    "\n",
    "    Parameters:\n",
    "    - fits_files (list): List of FITS file paths.\n",
    "\n",
    "    Returns:\n",
    "    - List of FITS file paths that match the exposure time criteria.\n",
    "    \"\"\"\n",
    "    exposure_time_counts = get_exposure_time_counts(fits_files)\n",
    "    display_exposure_time_counts(exposure_time_counts)\n",
    "    criteria = input(\n",
    "        \"\\nEnter the exposure time criteria (e.g., '0.36' for exactly 0.36s, '<1.5' for less than 1.5s, '>1.5' for more than 1.5s, '2-120' for between 2s and 120s): \"\n",
    "    )\n",
    "    print(\"\\nSelected exposure time(s):\", criteria)\n",
    "    filtered_files = filter_files_by_criteria(exposure_time_counts, criteria)\n",
    "    print(f\"\\nFound {len(filtered_files)} files matching the criteria.\")\n",
    "    return filtered_files"
   ]
  },
  {
   "cell_type": "markdown",
   "id": "e6364f7e",
   "metadata": {},
   "source": [
    "To use the `filter_fits_by_exposure_time` function, simply run the provided code with your list of FITS files. You will then be prompted to enter your exposure time criteria. The function will process your request and return a filtered list of FITS files that match your specified criteria, making it easier to proceed with a more focused analysis."
   ]
  },
  {
   "cell_type": "code",
   "execution_count": null,
   "id": "bee020c3",
   "metadata": {},
   "outputs": [],
   "source": [
    "# In this example we're using the filtered Al-Poly Filter & 384 by 384 pixels FITS\n",
    "xrt_Al_poly_384_Obs_FITs_fixed_exposure_time = filter_fits_by_exposure_time(\n",
    "    xrt_Al_poly_384_Obs_FITs\n",
    ")"
   ]
  },
  {
   "cell_type": "markdown",
   "id": "45351527",
   "metadata": {},
   "source": [
    "## Navigating FITS Images "
   ]
  },
  {
   "cell_type": "markdown",
   "id": "486afe2b",
   "metadata": {},
   "source": [
    "Now, we have the capability to review images within our curated list of filtered FITS files. This enhanced navigation functionality not only facilitates sequential browsing but also introduces the ability to directly access a specific image within the dataset. Such a feature is invaluable for evaluating your dataset in detail, allowing you to identify and exclude FITS files that may not be relevant to your analysis or contain poor-quality images captured by the XRT."
   ]
  },
  {
   "cell_type": "markdown",
   "id": "cfde7c27",
   "metadata": {},
   "source": [
    "Using the `view_fits_images` function, you can move forward or backward through the image dataset or jump to an image directly navigate to a specific image by entering its number in the dataset. This feature is particularly useful when dealing with large datasets, as it enables quick access to images of interest without the need to sequentially skim through potentially hundreds of files. Whether you're looking for a particular phase of a solar event or need to examine the quality of specific images, this tool enhances your workflow by making data access more efficient and user-friendly."
   ]
  },
  {
   "cell_type": "markdown",
   "id": "a8e58fd2",
   "metadata": {},
   "source": [
    "You may find the need to remove certain images or FITS data that are not relevant or of poor quality for your analysis. To facilitate this, maintain a list with either the index numbers or the titles of the FITS files. This metadata is readily available each time you view an image in the dataset. In a later section titled **Removing-unwanted-FITS-Files**, we will introduce functions designed specifically for cleaning your dataset, leveraging the list you've compiled during the review process."
   ]
  },
  {
   "cell_type": "code",
   "execution_count": null,
   "id": "5304a6e7",
   "metadata": {},
   "outputs": [],
   "source": [
    "def view_fits_images(fits_files):\n",
    "    \"\"\"\n",
    "    Displays FITS images one at a time with navigation buttons and an option to jump to a specific image.\n",
    "\n",
    "    Parameters:\n",
    "    - fits_files (list): List of paths to the FITS files.\n",
    "    \"\"\"\n",
    "\n",
    "    current_index = [0]  # Use a list to allow modifications from inner functions\n",
    "\n",
    "    def show_image(index=None):\n",
    "        \"\"\"Displays the image at the current index and clears the previous output.\"\"\"\n",
    "        if index is not None:\n",
    "            # Safely update the current index based on user input\n",
    "            current_index[0] = max(0, min(index, len(fits_files) - 1))\n",
    "\n",
    "        clear_output(wait=True)  # Clear the previous image and controls\n",
    "        display(\n",
    "            widgets.HBox([prev_button, next_button, jump_input, jump_button])\n",
    "        )  # Redisplay the controls\n",
    "\n",
    "        fits_path = fits_files[current_index[0]]\n",
    "        sunpy_map = sunpy.map.Map(fits_path)\n",
    "\n",
    "        # Display FITS file name and image counter\n",
    "        print(\n",
    "            f\"File: {fits_path.split('/')[-1]} (Image {current_index[0] + 1} of {len(fits_files)})\"\n",
    "        )\n",
    "\n",
    "        plt.figure(figsize=(6, 6))\n",
    "        sunpy_map.plot()\n",
    "        plt.show()\n",
    "\n",
    "        update_buttons_status()\n",
    "\n",
    "    def go_next():\n",
    "        \"\"\"Go to the next image.\"\"\"\n",
    "        if current_index[0] < len(fits_files) - 1:\n",
    "            current_index[0] += 1\n",
    "            show_image()\n",
    "\n",
    "    def go_prev():\n",
    "        \"\"\"Go to the previous image.\"\"\"\n",
    "        if current_index[0] > 0:\n",
    "            current_index[0] -= 1\n",
    "            show_image()\n",
    "\n",
    "    def jump_to_image():\n",
    "        \"\"\"Jump to the image number entered by the user.\"\"\"\n",
    "        try:\n",
    "            index = int(jump_input.value) - 1  # Convert to 0-based index\n",
    "            show_image(index)\n",
    "        except ValueError:\n",
    "            print(\"Please enter a valid image number.\")\n",
    "\n",
    "    def update_buttons_status():\n",
    "        \"\"\"Updates the status of next/prev buttons based on the current index.\"\"\"\n",
    "        next_button.disabled = current_index[0] >= len(fits_files) - 1\n",
    "        prev_button.disabled = current_index[0] <= 0\n",
    "\n",
    "    # Create navigation buttons\n",
    "    next_button = widgets.Button(description=\"Next\")\n",
    "    prev_button = widgets.Button(description=\"Previous\")\n",
    "    next_button.on_click(go_next)\n",
    "    prev_button.on_click(go_prev)\n",
    "\n",
    "    # Create jump to image widgets\n",
    "    jump_input = widgets.Text(\n",
    "        description=\"Jump to Image:\", placeholder=\"Enter image number\"\n",
    "    )\n",
    "    jump_button = widgets.Button(description=\"Go\")\n",
    "    jump_button.on_click(jump_to_image)\n",
    "\n",
    "    # Initially display buttons and the first image\n",
    "    display(widgets.HBox([prev_button, next_button, jump_input, jump_button]))\n",
    "    show_image()"
   ]
  },
  {
   "cell_type": "markdown",
   "id": "92a92fbc",
   "metadata": {},
   "source": [
    "### Simple and Intuitive Use\n",
    "\n",
    "To navigate through your FITS images dataset:\n",
    "\n",
    "1. **Navigation**: Use the \"Next\" or \"Previous\" buttons to move sequentially through your dataset, one image at a time.\n",
    "2. **Direct Jump**: If you want to view a specific image, enter its number in the \"Jump to Image\" field and click \"Go\". The image number should correspond to its sequential position in your list of FITS files, allowing direct and straightforward access to any image in your dataset.\n"
   ]
  },
  {
   "cell_type": "code",
   "execution_count": null,
   "id": "9a83991e",
   "metadata": {},
   "outputs": [],
   "source": [
    "# We're going to use our filtered FITS data set: xrt_Al_poly_384_Obs_FITs\n",
    "view_fits_images(xrt_Al_poly_384_Obs_FITs_fixed_exposure_time)"
   ]
  },
  {
   "cell_type": "markdown",
   "id": "93a04e6b",
   "metadata": {},
   "source": [
    "### Removing Unwanted FITS Files \n",
    "\n",
    "#### Strategy for Removal: \n",
    "The removal process involves three main steps:\n",
    "\n",
    "#### Identification: \n",
    "While reviewing images, note the index numbers or title filename of those you wish to exclude. Keeping track of these details as you go can streamline the removal process.\n",
    "\n",
    "#### Compilation: \n",
    "Organize the identified indices or filenames into a Python list. This step formalizes your removal list, making the next step straightforward.\n",
    "\n",
    "#### Execution: \n",
    "With the list prepared, you'll use a specific function to remove the unwanted files from your dataset. This function will be based on whether you're working with indices or filenames.\n",
    "\n",
    "#### Implementation Details\n",
    "This section will introduce two functions tailored to your method of identification — one for index numbers and another for filenames. You can choose the one that best fits your workflow.\n"
   ]
  },
  {
   "cell_type": "markdown",
   "id": "74951466",
   "metadata": {},
   "source": [
    "After reviewing the FITS images using the `view_fits_images` function, you may identify some images that you wish to remove from your dataset. This could be due to poor quality, irrelevance to your study, or any other reason. Below we provide a straightforward method to facilitate this, allowing you to easily remove these unwanted files from your dataset.\n",
    "\n",
    "##### Strategy for Removal\n",
    "\n",
    "1. **Identification**: While reviewing images, note the index number(s) or FITS filename(s) of those you wish to exclude. \n",
    "\n",
    "\n",
    "2. **Compilation**: Create a Python [list](https://docs.python.org/3/tutorial/datastructures.html) with these indices as integers or FITS filename as a string.\n",
    "\n",
    "3. **Execution**: With the list prepared, you'll use a specific function to remove the unwanted files from your dataset. This function will be based on whether you're working with indices or filenames.\n",
    "\n",
    "##### Implementation\n",
    "\n",
    "Depending on your preference for using image numbers or filenames for identification, you can use one of the two provided functions.\n",
    "\n",
    "##### Using Index Numbers to Remove Files\n",
    "\n",
    "For cases where you've identified unwanted images by their index position number in the dataset, the `remove_fits_by_index` function will do the removal."
   ]
  },
  {
   "cell_type": "code",
   "execution_count": null,
   "id": "685e2307",
   "metadata": {},
   "outputs": [],
   "source": [
    "def remove_fits_by_index(original_list, indices_to_remove):\n",
    "    \"\"\"\n",
    "    Removes FITS files from the dataset based on their index numbers.\n",
    "\n",
    "    Parameters:\n",
    "    - original_list (list): The original list of FITS file paths.\n",
    "    - indices_to_remove (list): A list of index numbers representing the FITS files to remove.\n",
    "\n",
    "    Returns:\n",
    "    - A new list with the specified FITS files removed.\n",
    "    \"\"\"\n",
    "    return [\n",
    "        item for idx, item in enumerate(original_list) if idx not in indices_to_remove\n",
    "    ]"
   ]
  },
  {
   "cell_type": "code",
   "execution_count": null,
   "id": "c2f2ab42",
   "metadata": {},
   "outputs": [],
   "source": [
    "# Example usage of the remove_fits_by_index function\n",
    "indices_to_remove = [\n",
    "    2,\n",
    "    5,\n",
    "    7,\n",
    "]  # Assuming these are the indices of images to remove, based on their order in the dataset\n",
    "\n",
    "# Generate the updated list excluding specified FITS files\n",
    "updated_index_xrt_Al_poly_384_Obs = remove_fits_by_index(\n",
    "    xrt_Al_poly_384_Obs_FITs_fixed_exposure_time, indices_to_remove\n",
    ")\n",
    "\n",
    "# Print the new length of the file list\n",
    "print(\"New length of file list:\", len(updated_index_xrt_Al_poly_384_Obs))\n",
    "\n",
    "# Optionally, print the first and last filenames in the updated list to show the range of the dataset\n",
    "if updated_index_xrt_Al_poly_384_Obs:\n",
    "    print(\n",
    "        \"First file in the list:\", updated_index_xrt_Al_poly_384_Obs[0].split(\"/\")[-1]\n",
    "    )\n",
    "    print(\n",
    "        \"Last file in the list:\", updated_index_xrt_Al_poly_384_Obs[-1].split(\"/\")[-1]\n",
    "    )\n",
    "else:\n",
    "    print(\"The list is now empty.\")"
   ]
  },
  {
   "cell_type": "markdown",
   "id": "11561344",
   "metadata": {},
   "source": [
    "##### Using FITS filename to remove file\n",
    "If you prefer noting down filenames:\n",
    "\n",
    "##### Using FITS Filenames to Remove Files\n",
    "\n",
    "If you find it more intuitive to work with filenames rather than index numbers, the following method allows you to remove unwanted images by their filenames. This can be particularly useful when the filenames contain descriptive information about the data, making them easier to identify without viewing each image sequentially.\n"
   ]
  },
  {
   "cell_type": "code",
   "execution_count": null,
   "id": "2480daea",
   "metadata": {},
   "outputs": [],
   "source": [
    "def remove_fits_by_filename(original_list, filenames_to_remove):\n",
    "    \"\"\"\n",
    "    Removes FITS files from the dataset based on their filenames.\n",
    "\n",
    "    Parameters:\n",
    "    - original_list (list): The original list of FITS file paths.\n",
    "    - filenames_to_remove (list): A list of filenames representing the FITS files to remove.\n",
    "\n",
    "    Returns:\n",
    "    - A new list with the specified FITS files removed.\n",
    "    \"\"\"\n",
    "    return [\n",
    "        item for item in original_list if item.split(\"/\")[-1] not in filenames_to_remove\n",
    "    ]"
   ]
  },
  {
   "cell_type": "code",
   "execution_count": null,
   "id": "9385f185",
   "metadata": {},
   "outputs": [],
   "source": [
    "# Example usage of the remove_fits_by_filename function\n",
    "filenames_to_remove = [\n",
    "    \"l1_xrt20210521_185300_6.fits\",\n",
    "    \"l1_xrt20210521_185720_2.fits\",\n",
    "    \"l1_xrt20210521_190120_3.fits\",\n",
    "]  # Example filenames of images to remove\n",
    "\n",
    "# Generate the updated list excluding the specified FITS files\n",
    "updated_FITS_xrt_Al_poly_384_Obs = remove_fits_by_filename(\n",
    "    xrt_Al_poly_384_Obs_FITs_fixed_exposure_time, filenames_to_remove\n",
    ")\n",
    "\n",
    "# Print the new length of the file list\n",
    "print(\"New length of file list:\", len(updated_FITS_xrt_Al_poly_384_Obs))\n",
    "\n",
    "# Optionally, print the first and last filenames in the updated list to show the range of the dataset\n",
    "if updated_FITS_xrt_Al_poly_384_Obs:\n",
    "    print(\"First file in the list:\", updated_FITS_xrt_Al_poly_384_Obs[0].split(\"/\")[-1])\n",
    "    print(\"Last file in the list:\", updated_FITS_xrt_Al_poly_384_Obs[-1].split(\"/\")[-1])\n",
    "else:\n",
    "    print(\"The list is now empty.\")"
   ]
  },
  {
   "cell_type": "markdown",
   "id": "fdf3db70",
   "metadata": {},
   "source": [
    "\n",
    "## Visualizing Solar Dynamics by Creating a Movie from XRT FITS Data"
   ]
  },
  {
   "cell_type": "markdown",
   "id": "bc025ab8",
   "metadata": {},
   "source": [
    "Creating a movie from FITS files is an excellent way to visualize data, particularly for dynamic solar phenomena observed by the Hinode XRT. We can accomplish this using SunPy to handle FITS files and matplotlib, along with imageio, to create the animation."
   ]
  },
  {
   "cell_type": "markdown",
   "id": "87c9e991",
   "metadata": {},
   "source": [
    "The `create_solar_movie_from_FITS` function generates a movie (MP4 format) from the FITS files you provide. If you're interested in customizing this process, you can review and modify the function as needed. To proceed with creating a movie using the default settings, run the cell containing the function below. Then, move to the following cell for instructions on how to use this function in your workflow."
   ]
  },
  {
   "cell_type": "code",
   "execution_count": null,
   "id": "4ee1372d",
   "metadata": {},
   "outputs": [],
   "source": [
    "def create_solar_movie_from_FITS(\n",
    "    fits_files, output_file=\"solar_movie.mp4\", fps=5, processing=True\n",
    "):\n",
    "    \"\"\"\n",
    "    Creates a movie from a sequence of FITS files.\n",
    "\n",
    "    Parameters:\n",
    "    - fits_files (list): List of paths to the FITS files.\n",
    "    - output_file (str): Path where the output movie will be saved.\n",
    "    - fps (int): Frames per second for the output movie.\n",
    "    - processing (bool): If True, prints processing messages. Default is True.\n",
    "    \"\"\"\n",
    "    # Create a temporary directory to store the frames\n",
    "    frames_dir = tempfile.mkdtemp()\n",
    "    frames = []\n",
    "\n",
    "    if processing:\n",
    "        print(f\"Starting to process {len(fits_files)} FITS files.\\n\")\n",
    "\n",
    "    for i, file_path in enumerate(fits_files):\n",
    "        if processing:\n",
    "            print(f\"Processing file {i+1}/{len(fits_files)}: {file_path}\")\n",
    "        # Load the FITS file as a SunPy Map\n",
    "        xrt_map = sunpy.map.Map(file_path)\n",
    "\n",
    "        # Plotting the SunPy Map\n",
    "        fig = plt.figure(figsize=(8, 8))\n",
    "        ax = plt.subplot(projection=xrt_map)\n",
    "        xrt_map.plot(axes=ax)\n",
    "\n",
    "        # Adding title and labels\n",
    "        plt.title(\n",
    "            f'XRT {xrt_map.measurement} {xrt_map.date.strftime(\"%Y-%m-%d %H:%M:%S\")}'\n",
    "        )\n",
    "        ax.set_xlabel(\"Helioprojective Longitude (Solar-X)\")\n",
    "        ax.set_ylabel(\"Helioprojective Latitude (Solar-Y)\")\n",
    "        plt.tight_layout()\n",
    "\n",
    "        # Saving the frame\n",
    "        frame_path = os.path.join(frames_dir, f\"frame_{i:04d}.png\")\n",
    "        plt.savefig(frame_path)\n",
    "        plt.close(fig)\n",
    "        frames.append(frame_path)\n",
    "        if processing:\n",
    "            print(f\"Saved frame {i+1}/{len(fits_files)}\")\n",
    "\n",
    "    if processing:\n",
    "        print(\"\\nStarting to compile the movie.\\n\")\n",
    "\n",
    "    # Compile the movie from saved frames\n",
    "    with imageio.get_writer(output_file, fps=fps) as writer:\n",
    "        for frame_path in frames:\n",
    "            image = imageio.imread(frame_path)\n",
    "            writer.append_data(image)\n",
    "\n",
    "    # Cleanup: Remove temporary frames and directory\n",
    "    for frame_path in frames:\n",
    "        os.remove(frame_path)\n",
    "    os.rmdir(frames_dir)\n",
    "\n",
    "    if processing:\n",
    "        print(\n",
    "            f\"\\nMovie created: {output_file}\\nAll done!\\nMake sure to download the movie to your local machine to see it.\"\n",
    "        )"
   ]
  },
  {
   "cell_type": "code",
   "execution_count": null,
   "id": "0dbd03c2",
   "metadata": {
    "scrolled": true
   },
   "outputs": [],
   "source": [
    "# Specify the output file name for the movie\n",
    "solar_movie_example = \"solar_movie_example.mp4\"\n",
    "\n",
    "# Create the movie from the list of FITS files\n",
    "# Using our Al-Poly by 384X384 filtered FITs files\n",
    "create_solar_movie_from_FITS(\n",
    "    xrt_Al_poly_384_Obs_FITs_fixed_exposure_time,\n",
    "    output_file=solar_movie_example,\n",
    "    fps=15,\n",
    "    processing=True,\n",
    ")"
   ]
  },
  {
   "cell_type": "code",
   "execution_count": null,
   "id": "1444b45f",
   "metadata": {},
   "outputs": [],
   "source": [
    "# from IPython.display import Video\n",
    "\n",
    "# Display the created movie within the notebook. Might to add \"embed=True\" to enable videos directly into a Jupyter Notebook\n",
    "Video(solar_movie_example)"
   ]
  },
  {
   "cell_type": "markdown",
   "id": "272a9ca0",
   "metadata": {},
   "source": [
    "### **A Note from Joy, an xrtpy dev**\n",
    "\n",
    "As an enthusiast of the Hinode X-Ray Telescope (XRT) and a developer for XRTpy, I created this guide to simplify the process of accessing and analyzing Hinode-XRT data using Python. The functions and methods presented in this guide are designed to serve as a starting point, and they are not currently part of the official `xrtpy` library. I encourage you to adapt and modify these functions to fit your specific research needs and preferences.\n",
    "\n",
    "#### Contributing to XRTpy\n",
    "\n",
    "If you're interested in contributing to the guide or the XRTpy project itself, we warmly welcome your input and collaboration. You can engage with us through [XRTpy's GitHub repository](https://github.com/HinodeXRT/xrtpy/pulls). Whether it's by suggesting features, improving documentation, or adding new functionalities, your contributions can significantly impact the scientific community's ability to study the Sun.\n",
    "\n",
    "#### Contact and Sharing\n",
    "\n",
    "Should you have any questions, or if you wish to share how you've utilized this guide in your work, please don't hesitate to reach out via email at [xrtpy@cfa.harvard.edu](mailto:xrtpy@cfa.harvard.edu). If you share or present your work based on this guide, please ensure to reference it appropriately.\n",
    "\n",
    "Thank you for exploring the Hinode-XRT data through this guide and XRTpy. Your feedback and contributions are what make our community thrive.\n"
   ]
  }
 ],
 "metadata": {
  "kernelspec": {
   "display_name": "Python 3 (ipykernel)",
   "language": "python",
   "name": "python3"
  },
  "language_info": {
   "codemirror_mode": {
    "name": "ipython",
    "version": 3
   },
   "file_extension": ".py",
   "mimetype": "text/x-python",
   "name": "python",
   "nbconvert_exporter": "python",
   "pygments_lexer": "ipython3",
   "version": "3.8.5"
  },
  "nbsphinx": {
   "execute": "never"
  }
 },
 "nbformat": 4,
 "nbformat_minor": 5
}
