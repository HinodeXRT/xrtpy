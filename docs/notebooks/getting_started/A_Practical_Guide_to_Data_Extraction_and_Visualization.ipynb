{
 "cells": [
  {
   "cell_type": "markdown",
   "id": "5889d1e9",
   "metadata": {},
   "source": [
    "# Hinode-XRT: A Practical Guide to Data Extraction and Visualization\n",
    "\n",
    "This notebook provides a step-by-step guide on how to download, process, and visualize solar observation data from the Hinode X-Ray Telescope, making it accessible for research and analysis.\n",
    "\n",
    "*Created by Joy Velasquez. Version 1*"
   ]
  },
  {
   "cell_type": "markdown",
   "id": "2c79b374",
   "metadata": {},
   "source": [
    "## Introduction\n",
    "\n",
    "This notebook is designed as a preliminary guide to handle solar observation data specifically from the Hinode X-Ray Telescope (XRT). While this example does not directly utilize `xrtpy` functionalities, it lays the groundwork for handling and understanding XRT data, which can be further processed and analyzed using `xrtpy`.\n",
    "\n",
    "Here's what we'll cover:\n",
    "- **Downloading XRT Data**: Learn how to download XRT data for a specific period of interest.\n",
    "- **Data Filtering**: Use custom functions to filter and process the downloaded data.\n",
    "- **Visualization and Movie Creation**: Explore methods to visualize the data and compile it into movie format, providing a dynamic view of solar observations.\n",
    "\n",
    "Whether for research analysis or as a stepping stone to using `xrtpy` for more advanced applications, this guide aims to equip you with the fundamental skills necessary for effective data manipulation and visualization in solar physics."
   ]
  },
  {
   "cell_type": "markdown",
   "id": "99e5293f",
   "metadata": {},
   "source": [
    "## Table of Contents\n",
    "1. [Importing Necessary Packages](#importing-packages)\n",
    "2. [Using Fido to Search and Download XRT Data](#using-fido-to-search-and-download-xrt-data)\n",
    "3. [Inspecting the Downloaded Data](#inspecting-the-downloaded-data)\n",
    "4. [Exploring Functions to Enhance Data Quality](#exploring-functions-to-enhance-data-quality)\n"
   ]
  },
  {
   "cell_type": "markdown",
   "id": "76671fc6",
   "metadata": {},
   "source": [
    "<a id=\"importing-packages\"></a>\n",
    "## Importing Necessary Packages\n",
    "\n",
    "The following code cell contains all the necessary Python packages and modules imports to set up our working environment for handling Hinode XRT data."
   ]
  },
  {
   "cell_type": "code",
   "execution_count": null,
   "id": "ecd578f7",
   "metadata": {},
   "outputs": [],
   "source": [
    "# For handling solar data with SunPy\n",
    "from sunpy.net import Fido, attrs as a\n",
    "from sunpy.map import Map\n",
    "import sunpy.map\n",
    "\n",
    "# For plotting and visualization\n",
    "import matplotlib.pyplot as plt\n",
    "\n",
    "# For handling date and time\n",
    "from datetime import datetime\n",
    "\n",
    "# For data manipulation\n",
    "import pandas as pd\n",
    "\n",
    "# For handling astronomical units\n",
    "import astropy.units as u\n",
    "\n",
    "# For operating system interactions and temporary file management\n",
    "import os\n",
    "import tempfile\n",
    "\n",
    "# For creating images and videos (install with 'pip install imageio' if not already available)\n",
    "import imageio"
   ]
  },
  {
   "cell_type": "markdown",
   "id": "2420734d",
   "metadata": {},
   "source": [
    "<a id=\"using-fido-to-search-and-download-xrt-data\"></a>\n",
    "## Using Fido to Search and Download XRT Data\n",
    "\n",
    "\n",
    "[SunPy]:https://sunpy.org/\n",
    "\n",
    "Fido is a unified interface provided by [SunPy] for querying and downloading data from various solar physics instruments. In this part of the notebook, we will use Fido to search for specific datasets from the Hinode X-Ray Telescope (XRT). We will demonstrate how to define a time range and select the instrument to execute the data search effectively."
   ]
  },
  {
   "cell_type": "markdown",
   "id": "107d208b",
   "metadata": {},
   "source": [
    "We will focus on the Hinode-XRT observation of [Active Region (AR) 13234](https://www.solarmonitor.org/region_pop.php?date=20230223&type=hxrt_flter&region=13234), which was recorded on February 23, 2023, around 18:00 UT, near the solar limb. This region appears to have active flaring, making it an interesting subject for study.\n",
    "\n",
    "For more detailed information about the flare activities observed during the Hinode mission, you can refer to the [XRT Flare Catalog](https://xrt.cfa.harvard.edu/flare_catalog/).\n"
   ]
  },
  {
   "cell_type": "code",
   "execution_count": null,
   "id": "e05834db",
   "metadata": {},
   "outputs": [],
   "source": [
    "\n",
    "# Define the time range of interest for solar observations.\n",
    "time_range = a.Time(\"2023-02-23 19:16:57\", \"2023-02-23 19:45:00\") #\"2023-02-23 20:19:00\"\n",
    "\n",
    "# Specify the instrument as 'xrt' to search for Hinode X-Ray Telescope data.\n",
    "instrument = a.Instrument(\"xrt\")\n",
    "\n",
    "\n",
    "# This will return a catalog of available XRT data during the specified period.\n",
    "xrt_files = Fido.search(time_range, instrument)\n"
   ]
  },
  {
   "cell_type": "markdown",
   "id": "af5e9f4d",
   "metadata": {},
   "source": [
    "## Downloading Hinode XRT Data Using `Fido.fetch`\n",
    "\n",
    "After successfully searching for the desired Hinode XRT data using Fido, the next step is to download the files. We use the `Fido.fetch` function for this purpose. This function takes the search results as input and downloads the data to a specified location on your local machine.\n",
    "\n",
    "In the following code cell, we'll demonstrate how to use `Fido.fetch` to download the data we searched for in the previous step. We will also cover how to specify a download directory and handle the downloaded files."
   ]
  },
  {
   "cell_type": "code",
   "execution_count": null,
   "id": "6c241846",
   "metadata": {
    "scrolled": false
   },
   "outputs": [],
   "source": [
    "# Note: Depending on the amount of data and network speed, this process can take some time.\n",
    "# The `progress` parameter in `Fido.fetch` controls the display of the download progress bar.\n",
    "# Setting `progress=False` disables the progress bar, which can be useful for cleaner output,\n",
    "# especially when running this in a script or automated pipeline. By default, we keep it True\n",
    "# for this interactive session to monitor the download progress.\n",
    "\n",
    "# This will download the files to the default SunPy data directory or a specified path.\n",
    "# Replace `xrt_downloaded_files` with your search results variable if different.\n",
    "xrt_files_results = Fido.fetch(xrt_files, progress=True)\n",
    "\n",
    "# If you wish to specify a different download directory, you can do so by adding the `path` parameter:\n",
    "# xrt_files_results = Fido.fetch(xrt_downloaded_files, path='/desired/download/directory/', progress=True)\n"
   ]
  },
  {
   "cell_type": "markdown",
   "id": "33d78610",
   "metadata": {},
   "source": [
    "<a id=\"inspecting-the-downloaded-data\"></a>\n",
    "## Inspecting the Downloaded Data\n",
    "\n",
    "\n",
    "Once the download is complete, it's important to inspect the data to ensure that what we have collected is suitable for our analysis. This step involves checking the basic information about the downloaded files, such as their names, file sizes, and data types. This information can help us verify that the download was successful and that we have the correct data for our project.\n",
    "\n",
    "We will use Python's built-in functions and some SunPy utilities to print out basic information about each file. This includes:\n",
    "- The file name: To understand the naming convention and organize the files.\n",
    "- The file size: To get an idea of the data volume and ensure the files are not corrupted (e.g., unusually small).\n",
    "- The data type or format: To confirm we have the right type of data for our processing and analysis.\n",
    "\n",
    "In the next code cell, we will demonstrate practical methods to retrieve and display these details using Python's standard utilities along with SunPy-specific functions."
   ]
  },
  {
   "cell_type": "code",
   "execution_count": null,
   "id": "66441923",
   "metadata": {},
   "outputs": [],
   "source": [
    "\n",
    "# Number of files downloaded\n",
    "num_files = len(xrt_files_results)\n",
    "print(f\"Number of files downloaded: {num_files}\")\n",
    "\n",
    "# Displaying the first few file names\n",
    "print(\"\\nSample file names:\")\n",
    "for file in xrt_files_results[:5]:\n",
    "    print(file)\n",
    "\n",
    "# Basic data check with SunPy map\n",
    "# Creating a SunPy Map object for a randomly chosen file (100th file in this example)\n",
    "sample_file_index = 100  # Index of the sample file\n",
    "sample_data = sunpy.map.Map(xrt_files_results[sample_file_index])\n",
    "print(\"\\nSample data info for file number 100:\")\n",
    "print(sample_data)\n",
    "\n",
    "# Visualizing the selected file #100\n",
    "plt.figure(figsize=(10, 8))\n",
    "sample_data.peek()  # 'peek' provides a quick look at the data with an automatically generated plot\n",
    "plt.show()\n"
   ]
  },
  {
   "cell_type": "markdown",
   "id": "bd7f1676",
   "metadata": {},
   "source": [
    "Having successfully collected the Hinode-XRT data, we now have several exciting options at our disposal. We can analyze the FITS files to understand the solar phenomena, visualize the observations in image form, or even create a dynamic movie showcasing a solar event. However, we can take futher step towards cleaning up some of the data we have downloaded."
   ]
  },
  {
   "cell_type": "markdown",
   "id": "73757bf1",
   "metadata": {},
   "source": [
    "<a id=\"exploring-functions-to-enhance-data-quality\"></a>\n",
    "## Exploring Functions to Enhance Data Quality\n",
    "\n",
    "In the upcoming sections, we'll introduce some custom functions designed for filtering and refining the downloaded data. These functions are crafted to be user-friendly and straightforward, providing a foundation that can be built upon for more complex data filtering requirements. This step is optional but highly recommended for a clearner understanding of the data we've collected."
   ]
  },
  {
   "cell_type": "markdown",
   "id": "e6ccaed5",
   "metadata": {},
   "source": [
    "The following cells contain optional but beneficial steps to get a better sense of the quality and characteristics of the data we've downloaded. By exploring these functions, you'll gain insights into simple yet effective methods to filter and clean your data, laying the groundwork for more advanced and tailored analysis.\n"
   ]
  }
 ],
 "metadata": {
  "kernelspec": {
   "display_name": "Python 3 (ipykernel)",
   "language": "python",
   "name": "python3"
  },
  "language_info": {
   "codemirror_mode": {
    "name": "ipython",
    "version": 3
   },
   "file_extension": ".py",
   "mimetype": "text/x-python",
   "name": "python",
   "nbconvert_exporter": "python",
   "pygments_lexer": "ipython3",
   "version": "3.8.5"
  }
 },
 "nbformat": 4,
 "nbformat_minor": 5
}
