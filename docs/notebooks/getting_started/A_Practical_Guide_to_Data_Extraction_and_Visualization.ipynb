{
 "cells": [
  {
   "cell_type": "markdown",
   "id": "5889d1e9",
   "metadata": {},
   "source": [
    "# Hinode-XRT: A Practical Guide to Data Extraction and Visualization\n",
    "\n",
    "This notebook provides a step-by-step guide on how to download, process, and visualize solar observation data from the Hinode X-Ray Telescope, making it accessible for research and analysis.\n",
    "\n",
    "*Created by Joy Velasquez. Version 1 - February 29, 2024*"
   ]
  },
  {
   "cell_type": "markdown",
   "id": "2c79b374",
   "metadata": {},
   "source": [
    "## Introduction\n",
    "\n",
    "This notebook is designed as a preliminary guide to handle solar observation data specifically from the Hinode X-Ray Telescope (XRT). While this example does not directly utilize `xrtpy` functionalities, it lays the groundwork for handling and understanding XRT data, which can be further processed and analyzed using `xrtpy`.\n",
    "\n",
    "Here's what we'll cover:\n",
    "- **Downloading XRT Data**: Learn how to download XRT data for a specific period of interest.\n",
    "- **Data Filtering**: Use custom functions to filter and process the downloaded data.\n",
    "- **Visualization and Movie Creation**: Explore methods to visualize the data and compile it into movie format, providing a dynamic view of solar observations.\n",
    "\n",
    "Whether for research analysis or as a stepping stone to using `xrtpy` for more advanced applications, this guide aims to equip you with the fundamental skills necessary for effective data manipulation and visualization in solar physics. "
   ]
  },
  {
   "cell_type": "markdown",
   "id": "99e5293f",
   "metadata": {},
   "source": [
    "## Table of Contents\n",
    "1. [Importing Necessary Packages](#importing-packages)\n",
    "2. [Using Fido to Search and Download XRT Data](#using-fido-to-search-and-download-xrt-data)\n",
    "3. [Inspecting the Downloaded Data](#inspecting-the-downloaded-data)\n",
    "4. [Exploring Functions to Enhance Data Quality](#exploring-functions-to-enhance-data-quality)\n",
    "   - 4.1 [Filtering FITS Files](#filtering-fits-files-through-selected-filter)\n",
    "   - 4.2 [Filtering FITS Files Through Pixel Size](#filtering-fits-files-through-pixel-size)\n",
    "5. [Navigating FITS Images](#Navigating-FITS-Images)\n",
    "6. [Removing Unwanted FITS Files](#Removing-unwanted-FITS-Files)\n",
    "\n",
    "6. [Creating a Movie from XRT FITS Data](#Creating-a-Movie-from-XRT-FITS-Data)"
   ]
  },
  {
   "cell_type": "markdown",
   "id": "76671fc6",
   "metadata": {},
   "source": [
    "<a id=\"importing-packages\"></a>\n",
    "## Importing Necessary Packages\n",
    "\n",
    "The following code cell contains all the necessary Python packages and modules imports to set up our working environment for handling Hinode XRT data."
   ]
  },
  {
   "cell_type": "code",
   "execution_count": null,
   "id": "ecd578f7",
   "metadata": {},
   "outputs": [],
   "source": [
    "import os\n",
    "import tempfile\n",
    "\n",
    "import imageio\n",
    "import matplotlib.pyplot as plt\n",
    "\n",
    "import sunpy.map\n",
    "from IPython.display import Video\n",
    "\n",
    "from sunpy.net import Fido\n",
    "from sunpy.net import attrs as a\n",
    "\n",
    "\n",
    "from IPython.display import display\n",
    "import ipywidgets as widgets\n",
    "\n",
    "from IPython.display import display, clear_output\n",
    "\n",
    "\n",
    "# Ensure you have the necessary libraries installed by running the line below\n",
    "# pip install sunpy matplotlib imageio ipywidgets"
   ]
  },
  {
   "cell_type": "markdown",
   "id": "2420734d",
   "metadata": {},
   "source": [
    "<a id=\"using-fido-to-search-and-download-xrt-data\"></a>\n",
    "## Using Fido to Search and Download XRT Data\n",
    "\n",
    "\n",
    "[SunPy]:https://sunpy.org/\n",
    "\n",
    "Fido is a unified interface provided by [SunPy] for querying and downloading data from various solar physics instruments. In this part of the notebook, we will use Fido to search for specific datasets from the Hinode X-Ray Telescope (XRT). We will demonstrate how to define a time range and select the instrument to execute the data search effectively."
   ]
  },
  {
   "cell_type": "markdown",
   "id": "107d208b",
   "metadata": {},
   "source": [
    "We will focus on the Hinode-XRT observation of [Active Region (AR) 13234](https://www.solarmonitor.org/region_pop.php?date=20230223&type=hxrt_flter&region=13234), which was recorded on February 23, 2023, around 18:00 UT, near the solar limb. This region appears to have active flaring, making it an interesting subject for study.\n",
    "\n",
    "For more detailed information about the flare activities observed during the Hinode mission, you can refer to the [XRT Flare Catalog](https://xrt.cfa.harvard.edu/flare_catalog/).\n"
   ]
  },
  {
   "cell_type": "code",
   "execution_count": null,
   "id": "e05834db",
   "metadata": {},
   "outputs": [],
   "source": [
    "# Define the time range of interest for solar observations.\n",
    "time_range = a.Time(\"2021-05-21 18:51:00\", \"2021-05-22 01:59:54\")\n",
    "\n",
    "# Specify the instrument as 'xrt' to search for Hinode X-Ray Telescope data.\n",
    "instrument = a.Instrument(\"xrt\")\n",
    "\n",
    "\n",
    "# This will return a catalog of available XRT data during the specified period.\n",
    "xrt_files = Fido.search(time_range, instrument)"
   ]
  },
  {
   "cell_type": "markdown",
   "id": "af5e9f4d",
   "metadata": {},
   "source": [
    "## Downloading Hinode XRT Data Using `Fido.fetch`\n",
    "\n",
    "After successfully searching for the desired Hinode XRT data using Fido, the next step is to download the files. We use the `Fido.fetch` function for this purpose. This function takes the search results as input and downloads the data to a specified location on your local machine.\n",
    "\n",
    "In the following code cell, we'll demonstrate how to use `Fido.fetch` to download the data we searched for in the previous step. We will also cover how to specify a download directory and handle the downloaded files."
   ]
  },
  {
   "cell_type": "code",
   "execution_count": null,
   "id": "6c241846",
   "metadata": {
    "scrolled": false
   },
   "outputs": [],
   "source": [
    "# Note: Depending on the amount of data and network speed, this process can take some time.\n",
    "# The `progress` parameter in `Fido.fetch` controls the display of the download progress bar.\n",
    "# Setting `progress=False` disables the progress bar, which can be useful for cleaner output,\n",
    "# especially when running this in a script or automated pipeline. By default, we keep it True\n",
    "# for this interactive session to monitor the download progress.\n",
    "\n",
    "# This will download the files to the default SunPy data directory or a specified path.\n",
    "# Replace `xrt_downloaded_files` with your search results variable if different.\n",
    "xrt_files_results = Fido.fetch(xrt_files, progress=True)\n",
    "\n",
    "# If you wish to specify a different download directory, you can do so by adding the `path` parameter:\n",
    "# xrt_files_results = Fido.fetch(xrt_downloaded_files, path='/desired/download/directory/', progress=True)"
   ]
  },
  {
   "cell_type": "markdown",
   "id": "4dc907b5",
   "metadata": {},
   "source": [
    "[FITS]:(https://fits.gsfc.nasa.gov/)\n",
    "\n",
    "XRT follows with standard Flexiable Image Transport System ([FITS]) file naming conventions. "
   ]
  },
  {
   "cell_type": "markdown",
   "id": "33d78610",
   "metadata": {},
   "source": [
    "<a id=\"inspecting-the-downloaded-data\"></a>\n",
    "## Inspecting the Downloaded Data\n",
    "\n",
    "\n",
    "Once the download is complete, it's important to inspect the data to ensure that what we have collected is suitable for our analysis. This step involves checking the basic information about the downloaded files, such as their names, file sizes, and data types. This information can help us verify that the download was successful and that we have the correct data for our project.\n",
    "\n",
    "We will use Python's built-in functions and some SunPy utilities to print out basic information about each file. This includes:\n",
    "- The file name: To understand the naming convention and organize the files.\n",
    "- The file size: To get an idea of the data volume and ensure the files are not corrupted (e.g., unusually small).\n",
    "- The data type or format: To confirm we have the right type of data for our processing and analysis.\n",
    "\n",
    "In the next code cell, we will demonstrate practical methods to retrieve and display these details using Python's standard utilities along with SunPy-specific functions."
   ]
  },
  {
   "cell_type": "code",
   "execution_count": null,
   "id": "66441923",
   "metadata": {},
   "outputs": [],
   "source": [
    "# Number of files downloaded\n",
    "num_files = len(xrt_files_results)\n",
    "print(f\"Number of files downloaded: {num_files}\")\n",
    "\n",
    "# Displaying the first few file names\n",
    "print(\"\\nSample file names:\")\n",
    "for file in xrt_files_results[:5]:\n",
    "    print(file)\n",
    "\n",
    "# Basic data check with SunPy map\n",
    "# Creating a SunPy Map object for a randomly chosen file (100th file in this example)\n",
    "sample_file_index = 84  # Index of the sample file\n",
    "sample_data = sunpy.map.Map(xrt_files_results[sample_file_index])\n",
    "print(\"\\nSample data info for file number 100:\")\n",
    "print(sample_data)\n",
    "\n",
    "# Visualizing the selected file #100\n",
    "plt.figure(figsize=(10, 8))\n",
    "sample_data.peek()  # 'peek' provides a quick look at the data with an automatically generated plot\n",
    "plt.show()"
   ]
  },
  {
   "cell_type": "markdown",
   "id": "bd7f1676",
   "metadata": {},
   "source": [
    "Having successfully collected the Hinode-XRT data, we now have several exciting options at our disposal. We can analyze the FITS files to understand the solar phenomena, visualize the observations in image form, or even create a dynamic movie showcasing a solar event. However, we can take further step towards cleaning up some of the data we have downloaded."
   ]
  },
  {
   "cell_type": "markdown",
   "id": "73757bf1",
   "metadata": {},
   "source": [
    "<a id=\"exploring-functions-to-enhance-data-quality\"></a>\n",
    "## Exploring Functions to Enhance Data Quality\n",
    "\n",
    "In the upcoming sections, we'll introduce some custom functions designed for filtering and refining the downloaded data. These functions are crafted to be user-friendly and straightforward, providing a foundation that can be built upon for more complex data filtering requirements. This step is optional but highly recommended for a clearner understanding of the data we've collected."
   ]
  },
  {
   "cell_type": "markdown",
   "id": "e6ccaed5",
   "metadata": {},
   "source": [
    "The following cells contain optional but beneficial steps to get a better sense of the quality and characteristics of the data we've downloaded. By exploring these functions, you'll gain insights into simple yet effective methods to filter and clean your data, laying the groundwork for more advanced and tailored analysis.\n"
   ]
  },
  {
   "cell_type": "markdown",
   "id": "833a6cc1",
   "metadata": {},
   "source": [
    "<a id=\"filtering-fits-files-through-selected-filter\"></a>\n",
    "### Filtering FITS Files Through Selected Filter\n"
   ]
  },
  {
   "cell_type": "markdown",
   "id": "62e7c934",
   "metadata": {},
   "source": [
    "It is difficult to know what type of data is contained in XRT FITS files. The titles do not give enough information. I've written a function that will read the header information of every FITS file using `sunpy.map`, find the unique filters in the data, and finally clean out the data for a filter of interest. Simple run the code and fill in the prompted when shown. "
   ]
  },
  {
   "cell_type": "code",
   "execution_count": null,
   "id": "20262c07",
   "metadata": {},
   "outputs": [],
   "source": [
    "def normalize_string(s):\n",
    "    \"\"\"\n",
    "    Normalize a string for comparison.\n",
    "    Converts to lowercase, replaces hyphens and underscores with spaces, and removes 'open'.\n",
    "    \"\"\"\n",
    "    return (\n",
    "        s.lower()\n",
    "        .replace(\"open\", \"\")\n",
    "        .strip(\"- \")\n",
    "        .replace(\"_\", \" \")\n",
    "        .replace(\"-\", \" \")\n",
    "        .strip()\n",
    "    )\n",
    "\n",
    "\n",
    "def filter_fits_files_by_XRT_filter(fits_files):\n",
    "    \"\"\"\n",
    "    Filters FITS files by XRT filter criteria, accommodating flexible user input formats, enhancing readability,\n",
    "    and ensuring valid input.\n",
    "\n",
    "    Parameters:\n",
    "    - fits_files: List of FITS file paths.\n",
    "\n",
    "    Returns:\n",
    "    - filtered_files: List of file paths that match the user-selected XRT channel filter.\n",
    "\n",
    "    Raises:\n",
    "    - ValueError: If the user input does not match any available filter.\n",
    "    \"\"\"\n",
    "    measurement_info = {}\n",
    "\n",
    "    for file_path in fits_files:\n",
    "        try:\n",
    "            from sunpy.map import Map\n",
    "\n",
    "            sunpy_map = Map(file_path)\n",
    "            measurement = sunpy_map.measurement\n",
    "            # Process measurement for consistent comparison and improved readability\n",
    "            processed_measurement = (\n",
    "                measurement.replace(\"Open\", \"\").strip(\"- \").replace(\"  \", \" \")\n",
    "            )\n",
    "            normalized_measurement = normalize_string(processed_measurement)\n",
    "            if normalized_measurement in measurement_info:\n",
    "                measurement_info[normalized_measurement] += 1\n",
    "            else:\n",
    "                measurement_info[normalized_measurement] = 1\n",
    "        except Exception as e:\n",
    "            print(f\"Error processing file {file_path}: {e}\")\n",
    "\n",
    "    # Format the output for better readability\n",
    "    filters_output = \"\\n\".join(\n",
    "        [\n",
    "            f\"{key.title().strip()}: {value} files\"\n",
    "            for key, value in measurement_info.items()\n",
    "        ]\n",
    "    )\n",
    "    print(f\"The files have the following filters and counts:\\n{filters_output}\")\n",
    "    filter_choice = input(\"Please select an XRT channel filter of interest: \")\n",
    "    # Normalize user input for comparison\n",
    "    normalized_filter_choice = normalize_string(filter_choice)\n",
    "\n",
    "    # Validate user input\n",
    "    if normalized_filter_choice not in measurement_info:\n",
    "        raise ValueError(\n",
    "            \"Invalid filter choice. Please enter a valid XRT channel filter from the list provided.\"\n",
    "        )\n",
    "\n",
    "    filtered_files = []\n",
    "\n",
    "    for file_path in fits_files:\n",
    "        try:\n",
    "            sunpy_map = Map(file_path)\n",
    "            measurement = sunpy_map.measurement\n",
    "            # Process measurement for comparison\n",
    "            processed_measurement = (\n",
    "                measurement.replace(\"Open\", \"\").strip(\"- \").replace(\"  \", \" \")\n",
    "            )\n",
    "            normalized_measurement = normalize_string(processed_measurement)\n",
    "\n",
    "            # Check if the normalized measurement matches the normalized filter criteria\n",
    "            if normalized_filter_choice in normalized_measurement:\n",
    "                filtered_files.append(file_path)\n",
    "        except Exception as e:\n",
    "            print(f\"Error processing file {file_path}: {e}\")\n",
    "    name_of_filter = filter_choice.title().strip()\n",
    "    print(f\"\\nFilter choice: {name_of_filter}\")\n",
    "    print(\n",
    "        f\"You have {len(filtered_files)} FITS files that match the '{name_of_filter}' filter.\"\n",
    "    )\n",
    "    print(\"Be sure to store this data as a new variable.\")\n",
    "\n",
    "    return filtered_files"
   ]
  },
  {
   "cell_type": "code",
   "execution_count": null,
   "id": "122165bc",
   "metadata": {},
   "outputs": [],
   "source": [
    "# Assuming xrt_files_results is a list of FITS file paths\n",
    "xrt_Al_poly_Obs_FITs = filter_fits_files_by_XRT_filter(xrt_files_results)"
   ]
  },
  {
   "cell_type": "code",
   "execution_count": null,
   "id": "bc7f3f31",
   "metadata": {},
   "outputs": [],
   "source": [
    "# Enhanced Information Display of FITS Data\n",
    "print(\"Data Overview:\\n\")\n",
    "\n",
    "# Displaying the total number of FITS files\n",
    "print(f\"Total number of FITS files: {len(xrt_Al_poly_Obs_FITs)}\\n\")\n",
    "\n",
    "# Displaying the first few file names to give a sample of the dataset\n",
    "print(\"Sample file names:\")\n",
    "for file in xrt_Al_poly_Obs_FITs[:5]:\n",
    "    print(f\"  - {file}\")\n",
    "\n",
    "# Providing the first and last file as a quick data date and time range overview\n",
    "print(f\"\\nFirst file in the dataset: {xrt_Al_poly_Obs_FITs[0]}\")\n",
    "print(f\"Last file in the dataset: {xrt_Al_poly_Obs_FITs[-1]}\")"
   ]
  },
  {
   "cell_type": "markdown",
   "id": "942fec9e",
   "metadata": {},
   "source": [
    "<a id=\"filtering-fits-files-through-pixel-size\"></a>\n",
    "### Filtering FITS Files Through Pixel Size"
   ]
  },
  {
   "cell_type": "markdown",
   "id": "f9a8251f",
   "metadata": {},
   "source": [
    "Filtering Hinode XRT FITS files by pixel dimensions, measured in units of pixels (`pix`), is a practical approach to ensure data uniformity. Essential for accurate and efficient scientific analysis, visualization, and data management. We refer to these **dimensions** within the context of `sunpy.map.Map`.\n",
    "\n",
    "XRT images typically have dimensions of `[384x384, 512x512, or 1024x1024]`, although any specific area of the CCD can be read out. For more information, please refer to the [SolarSoft XRT Analysis Guide](https://xrt.cfa.harvard.edu/resources/documents/XAG/XAG.pdf).\n"
   ]
  },
  {
   "cell_type": "markdown",
   "id": "63e579e0",
   "metadata": {},
   "source": [
    "The `filter_fits_files_by_XRT_dimensions` function takes a list of FITS files and returns a new list filtered by a selected XRT dimension. Upon execution, you will be prompted with the available dimensions within your list of FITS files and asked to select your preferred option. Following your selection, a new set of filtered FITS files will be generated for your analysis. Simply run the function below and proceed to the subsequent cell:"
   ]
  },
  {
   "cell_type": "code",
   "execution_count": null,
   "id": "fca60980",
   "metadata": {},
   "outputs": [],
   "source": [
    "def filter_fits_files_by_XRT_dimensions(fits_files):\n",
    "    \"\"\"\n",
    "    Filters FITS files by their dimensions, allowing for flexible input formatting.\n",
    "    Provides up to three attempts for input, with error handling for invalid formats.\n",
    "\n",
    "    Parameters:\n",
    "    - fits_files (list): List of paths to the FITS files.\n",
    "\n",
    "    Returns:\n",
    "    - A list of file paths that match the user-selected dimensions.\n",
    "    \"\"\"\n",
    "    dimension_counts = {}\n",
    "    \n",
    "    # Determine the unique dimensions of all FITS files and count them\n",
    "    for file_path in fits_files:\n",
    "        xrt_map = sunpy.map.Map(file_path)\n",
    "        # Construct a tuple for dimensions to facilitate comparison\n",
    "        dimensions_tuple = (xrt_map.dimensions.x.value, xrt_map.dimensions.y.value)\n",
    "        dimensions_str = f\"{dimensions_tuple[0]:.0f}, {dimensions_tuple[1]:.0f}\"\n",
    "        dimension_counts[dimensions_str] = dimension_counts.get(dimensions_str, 0) + 1\n",
    "    \n",
    "    print(\"Unique dimensions (in pixels) found in the dataset and their counts:\\n x:pix , y:pix\")\n",
    "    for dimensions, count in sorted(dimension_counts.items()):\n",
    "        print(f\"{dimensions}: {count} files\")\n",
    "    \n",
    "    attempts = 0\n",
    "    while attempts < 3:\n",
    "        chosen_dimensions_str = input(\"\\nPlease enter the dimensions of interest (e.g., '384, 384'): \")\n",
    "        try:\n",
    "            x_dim, y_dim = [int(dim.strip()) for dim in chosen_dimensions_str.split(',')]\n",
    "            chosen_dimensions_tuple = (x_dim, y_dim)\n",
    "            chosen_dimensions_str = f\"{x_dim}, {y_dim}\"  # Reformatted string for comparison\n",
    "        except ValueError:\n",
    "            print(\"Invalid format. Please enter dimensions in the format 'X, Y'.\")\n",
    "            attempts += 1\n",
    "            continue\n",
    "        \n",
    "        # Check if the processed input matches any known dimensions\n",
    "        if chosen_dimensions_str in dimension_counts:\n",
    "            break  # Valid dimension found; proceed with filtering\n",
    "        else:\n",
    "            print(f\"Error: '{chosen_dimensions_str}' is not a recognized dimension.\")\n",
    "            attempts += 1\n",
    "    \n",
    "    if attempts == 3:\n",
    "        print(f\"\\nMaximum attempts reached. Please rerun and try again. \\nIf further issues persist, please email xrtpy@cfa.harvard.edu.\")\n",
    "        return []\n",
    "\n",
    "    filtered_files = []\n",
    "    for file_path in fits_files:\n",
    "        xrt_map = sunpy.map.Map(file_path)\n",
    "        if (xrt_map.dimensions.x.value, xrt_map.dimensions.y.value) == chosen_dimensions_tuple:\n",
    "            filtered_files.append(file_path)\n",
    "    \n",
    "    print(f\"\\nFound {len(filtered_files)} files matching the dimensions {chosen_dimensions_str}.\")\n",
    "    return filtered_files\n"
   ]
  },
  {
   "cell_type": "code",
   "execution_count": null,
   "id": "d97daba4",
   "metadata": {},
   "outputs": [],
   "source": [
    "# For this example, I will continue to use xrt_Al_poly_Obs_FITs. The function will prompt you to select from\n",
    "# available dimensions and return a new list containing only the files that match the selected dimensions.\n",
    "\n",
    "# Now, call the function with your list of FITS file paths:\n",
    "xrt_Al_poly_384_Obs_FITs = filter_fits_files_by_XRT_dimensions(xrt_Al_poly_Obs_FITs)\n"
   ]
  },
  {
   "cell_type": "markdown",
   "id": "45351527",
   "metadata": {},
   "source": [
    "<a id=\"Navigating_FITS_Images\"></a>\n",
    "## Navigating FITS Images "
   ]
  },
  {
   "cell_type": "markdown",
   "id": "486afe2b",
   "metadata": {},
   "source": [
    "Now, we have the capability to review images within our curated list of filtered FITS files. This enhanced navigation functionality not only facilitates sequential browsing but also introduces the ability to directly access a specific image within the dataset. Such a feature is invaluable for evaluating your dataset in detail, allowing you to identify and exclude FITS files that may not be relevant to your analysis or contain poor-quality images captured by the XRT."
   ]
  },
  {
   "cell_type": "markdown",
   "id": "cfde7c27",
   "metadata": {},
   "source": [
    "Using the `view_fits_images` function, you can move forward or backward through the image dataset or jump to an Image directly navigate to a specific image by entering its number in the dataset. This feature is particularly useful when dealing with large datasets, as it enables quick access to images of interest without the need to sequentially skim through potentially hundreds of files. Whether you're looking for a particular phase of a solar event or need to examine the quality of specific images, this tool enhances your workflow by making data access more efficient and user-friendly."
   ]
  },
  {
   "cell_type": "code",
   "execution_count": null,
   "id": "5304a6e7",
   "metadata": {},
   "outputs": [],
   "source": [
    "\n",
    "def view_fits_images(fits_files):\n",
    "    \"\"\"\n",
    "    Displays FITS images one at a time with navigation buttons and an option to jump to a specific image.\n",
    "    \n",
    "    Parameters:\n",
    "    - fits_files (list): List of paths to the FITS files.\n",
    "    \"\"\"\n",
    "    \n",
    "    current_index = [0]  # Use a list to allow modifications from inner functions\n",
    "    \n",
    "    def show_image(index=None):\n",
    "        \"\"\"Displays the image at the current index and clears the previous output.\"\"\"\n",
    "        if index is not None:\n",
    "            # Safely update the current index based on user input\n",
    "            current_index[0] = max(0, min(index, len(fits_files) - 1))\n",
    "        \n",
    "        clear_output(wait=True)  # Clear the previous image and controls\n",
    "        display(widgets.HBox([prev_button, next_button, jump_input, jump_button]))  # Redisplay the controls\n",
    "        \n",
    "        fits_path = fits_files[current_index[0]]\n",
    "        sunpy_map = sunpy.map.Map(fits_path)\n",
    "        \n",
    "        # Display FITS file name and image counter\n",
    "        print(f\"File: {fits_path.split('/')[-1]} (Image {current_index[0] + 1} of {len(fits_files)})\")\n",
    "        \n",
    "        plt.figure(figsize=(6, 6))\n",
    "        sunpy_map.plot()\n",
    "        plt.show()\n",
    "        \n",
    "        update_buttons_status()\n",
    "    \n",
    "    def go_next(btn):\n",
    "        \"\"\"Go to the next image.\"\"\"\n",
    "        if current_index[0] < len(fits_files) - 1:\n",
    "            current_index[0] += 1\n",
    "            show_image()\n",
    "    \n",
    "    def go_prev(btn):\n",
    "        \"\"\"Go to the previous image.\"\"\"\n",
    "        if current_index[0] > 0:\n",
    "            current_index[0] -= 1\n",
    "            show_image()\n",
    "    \n",
    "    def jump_to_image(btn):\n",
    "        \"\"\"Jump to the image number entered by the user.\"\"\"\n",
    "        try:\n",
    "            index = int(jump_input.value) - 1  # Convert to 0-based index\n",
    "            show_image(index)\n",
    "        except ValueError:\n",
    "            print(\"Please enter a valid image number.\")\n",
    "    \n",
    "    def update_buttons_status():\n",
    "        \"\"\"Updates the status of next/prev buttons based on the current index.\"\"\"\n",
    "        next_button.disabled = current_index[0] >= len(fits_files) - 1\n",
    "        prev_button.disabled = current_index[0] <= 0\n",
    "    \n",
    "    # Create navigation buttons\n",
    "    next_button = widgets.Button(description=\"Next\")\n",
    "    prev_button = widgets.Button(description=\"Previous\")\n",
    "    next_button.on_click(go_next)\n",
    "    prev_button.on_click(go_prev)\n",
    "    \n",
    "    # Create jump to image widgets\n",
    "    jump_input = widgets.Text(description=\"Jump to Image:\", placeholder=\"Enter image number\")\n",
    "    jump_button = widgets.Button(description=\"Go\")\n",
    "    jump_button.on_click(jump_to_image)\n",
    "    \n",
    "    # Initially display buttons and the first image\n",
    "    display(widgets.HBox([prev_button, next_button, jump_input, jump_button]))\n",
    "    show_image()\n",
    "\n"
   ]
  },
  {
   "cell_type": "markdown",
   "id": "92a92fbc",
   "metadata": {},
   "source": [
    "#### Simple and Intuitive Use\n",
    "\n",
    "1. **Navigation**: Click on the \"Next\" or \"Previous\" buttons to move through your dataset one image at a time.\n",
    "2. **Direct Jump**: In the \"Jump to Image\" field, enter the image number you wish to view and click \"Go\".\n",
    "\n",
    "The image number corresponds to its position in your list of FITS files, providing a straightforward way to access any image data directly.\n"
   ]
  },
  {
   "cell_type": "code",
   "execution_count": null,
   "id": "9a83991e",
   "metadata": {},
   "outputs": [],
   "source": [
    "# We're going to use our filtered FITS data set: xrt_Al_poly_384_Obs_FITs\n",
    "view_fits_images(xrt_Al_poly_384_Obs_FITs)"
   ]
  },
  {
   "cell_type": "markdown",
   "id": "a9d4c0e2",
   "metadata": {},
   "source": [
    "<a id=\"Removing-unwanted-FITS-Files\"></a>\n",
    "### Removing Unwanted FITS Files"
   ]
  },
  {
   "cell_type": "markdown",
   "id": "74951466",
   "metadata": {},
   "source": [
    "After reviewing the FITS images using the `view_fits_images` function, you may identify some images that you wish to remove from your dataset. This could be due to poor quality, irrelevance to your study, or any other reason. Below we provide a straightforward method to facilitate this, allowing you to easily remove these unwanted files from your dataset.\n",
    "\n",
    "#### Strategy for Removal\n",
    "\n",
    "1. **Identification**: Note down either the index number(s) or the filename(s) of the images you want to remove.\n",
    "2. **Compilation**: Create a Python [list](https://docs.python.org/3/tutorial/datastructures.html) with these indices or filenames.\n",
    "3. **Execution**: Use a provided function to remove these files from your dataset list.\n",
    "\n",
    "#### Implementation\n",
    "\n",
    "Depending on your preference for using image numbers or filenames for identification, you can use one of the two provided functions."
   ]
  },
  {
   "cell_type": "markdown",
   "id": "9214a404",
   "metadata": {},
   "source": [
    "#### Using Image Numbers\n",
    "\n",
    "If using index numbers to identify images, use the following function:"
   ]
  },
  {
   "cell_type": "code",
   "execution_count": null,
   "id": "685e2307",
   "metadata": {},
   "outputs": [],
   "source": [
    "def remove_fits_by_index(original_list, indices_to_remove):\n",
    "    \"\"\"\n",
    "    Removes FITS files from the dataset based on their index numbers.\n",
    "    \n",
    "    Parameters:\n",
    "    - original_list (list): The original list of FITS file paths.\n",
    "    - indices_to_remove (list): A list of index numbers representing the FITS files to remove.\n",
    "    \n",
    "    Returns:\n",
    "    - A new list with the specified FITS files removed.\n",
    "    \"\"\"\n",
    "    return [item for idx, item in enumerate(original_list) if idx not in indices_to_remove]"
   ]
  },
  {
   "cell_type": "code",
   "execution_count": null,
   "id": "c2f2ab42",
   "metadata": {},
   "outputs": [],
   "source": [
    "# Example list of indices to remove\n",
    "indices_to_remove = [2, 5, 7]  # Based on the order in the viewing function\n",
    "\n",
    "# New updated list\n",
    "updated_index_xrt_Al_poly_384_Obs = remove_fits_by_index(xrt_Al_poly_384_Obs_FITs, indices_to_remove)"
   ]
  },
  {
   "cell_type": "markdown",
   "id": "11561344",
   "metadata": {},
   "source": [
    "#### Using Filenames\n",
    "If you prefer noting down filenames:"
   ]
  },
  {
   "cell_type": "code",
   "execution_count": null,
   "id": "2480daea",
   "metadata": {},
   "outputs": [],
   "source": [
    "def remove_fits_by_filename(original_list, filenames_to_remove):\n",
    "    \"\"\"\n",
    "    Removes FITS files from the dataset based on their filenames.\n",
    "    \n",
    "    Parameters:\n",
    "    - original_list (list): The original list of FITS file paths.\n",
    "    - filenames_to_remove (list): A list of filenames representing the FITS files to remove.\n",
    "    \n",
    "    Returns:\n",
    "    - A new list with the specified FITS files removed.\n",
    "    \"\"\"\n",
    "    return [item for item in original_list if item.split('/')[-1] not in filenames_to_remove]\n"
   ]
  },
  {
   "cell_type": "code",
   "execution_count": null,
   "id": "9385f185",
   "metadata": {},
   "outputs": [],
   "source": [
    "# Example list of filenames to remove\n",
    "filenames_to_remove = ['l1_xrt20210521_185300_6.fits', 'l1_xrt20210521_185720_2.fits', 'l1_xrt20210521_190120_3.fits']  # Example filenames\n",
    "\n",
    "# New updated list\n",
    "updated_FITS_xrt_Al_poly_384_Obs = remove_fits_by_filename(xrt_Al_poly_384_Obs_FITs, filenames_to_remove)"
   ]
  },
  {
   "cell_type": "markdown",
   "id": "fdf3db70",
   "metadata": {},
   "source": [
    "<a id=\"Creating-a-Movie-from-XRT-FITS-Data\"></a>\n",
    "## Visualizing Solar Dynamics: Creating a Movie from XRT FITS Data"
   ]
  },
  {
   "cell_type": "markdown",
   "id": "bc025ab8",
   "metadata": {},
   "source": [
    "Creating a movie from FITS files is an excellent way to visualize data, particularly for dynamic solar phenomena observed by the Hinode XRT. We can accomplish this using SunPy to handle FITS files and matplotlib, along with imageio, to create the animation."
   ]
  },
  {
   "cell_type": "markdown",
   "id": "87c9e991",
   "metadata": {},
   "source": [
    "The `create_solar_movie_from_FITS` function generates a movie (MP4 format) from the FITS files you provide. If you're interested in customizing this process, you can review and modify the function as needed. To proceed with creating a movie using the default settings, run the cell containing the function below. Then, move to the following cell for instructions on how to use this function in your workflow."
   ]
  },
  {
   "cell_type": "code",
   "execution_count": null,
   "id": "4ee1372d",
   "metadata": {},
   "outputs": [],
   "source": [
    "def create_solar_movie_from_FITS(\n",
    "    fits_files, output_file=\"solar_movie.mp4\", fps=5, processing=True\n",
    "):\n",
    "    \"\"\"\n",
    "    Creates a movie from a sequence of FITS files.\n",
    "\n",
    "    Parameters:\n",
    "    - fits_files (list): List of paths to the FITS files.\n",
    "    - output_file (str): Path where the output movie will be saved.\n",
    "    - fps (int): Frames per second for the output movie.\n",
    "    - processing (bool): If True, prints processing messages. Default is True.\n",
    "    \"\"\"\n",
    "    # Create a temporary directory to store the frames\n",
    "    frames_dir = tempfile.mkdtemp()\n",
    "    frames = []\n",
    "\n",
    "    if processing:\n",
    "        print(f\"Starting to process {len(fits_files)} FITS files.\\n\")\n",
    "\n",
    "    for i, file_path in enumerate(fits_files):\n",
    "        if processing:\n",
    "            print(f\"Processing file {i+1}/{len(fits_files)}: {file_path}\")\n",
    "        # Load the FITS file as a SunPy Map\n",
    "        xrt_map = sunpy.map.Map(file_path)\n",
    "\n",
    "        # Plotting the SunPy Map\n",
    "        fig = plt.figure(figsize=(8, 8))\n",
    "        ax = plt.subplot(projection=xrt_map)\n",
    "        xrt_map.plot(axes=ax)\n",
    "\n",
    "        # Adding title and labels\n",
    "        plt.title(\n",
    "            f'XRT {xrt_map.measurement} {xrt_map.date.strftime(\"%Y-%m-%d %H:%M:%S\")}'\n",
    "        )\n",
    "        ax.set_xlabel(\"Helioprojective Longitude (Solar-X)\")\n",
    "        ax.set_ylabel(\"Helioprojective Latitude (Solar-Y)\")\n",
    "        plt.tight_layout()\n",
    "\n",
    "        # Saving the frame\n",
    "        frame_path = os.path.join(frames_dir, f\"frame_{i:04d}.png\")\n",
    "        plt.savefig(frame_path)\n",
    "        plt.close(fig)\n",
    "        frames.append(frame_path)\n",
    "        if processing:\n",
    "            print(f\"Saved frame {i+1}/{len(fits_files)}\")\n",
    "\n",
    "    if processing:\n",
    "        print(\"\\nStarting to compile the movie.\\n\")\n",
    "\n",
    "    # Compile the movie from saved frames\n",
    "    with imageio.get_writer(output_file, fps=fps) as writer:\n",
    "        for frame_path in frames:\n",
    "            image = imageio.imread(frame_path)\n",
    "            writer.append_data(image)\n",
    "\n",
    "    # Cleanup: Remove temporary frames and directory\n",
    "    for frame_path in frames:\n",
    "        os.remove(frame_path)\n",
    "    os.rmdir(frames_dir)\n",
    "\n",
    "    if processing:\n",
    "        print(\n",
    "            f\"\\nMovie created: {output_file}\\nAll done!\\nMake sure to download the movie to your local machine to see it.\"\n",
    "        )"
   ]
  },
  {
   "cell_type": "code",
   "execution_count": null,
   "id": "0dbd03c2",
   "metadata": {
    "scrolled": true
   },
   "outputs": [],
   "source": [
    "# Specify the output file name for the movie\n",
    "solar_movie_example = \"solar_movie_example.mp4\"\n",
    "\n",
    "# Create the movie from the list of FITS files\n",
    "# Using our Al-Poly by 384X384 filtered FITs files\n",
    "create_solar_movie_from_FITS(\n",
    "    updated_FITS_xrt_Al_poly_384_Obs, \n",
    "    output_file=solar_movie_example, \n",
    "    fps=20, \n",
    "    processing=True\n",
    ")"
   ]
  },
  {
   "cell_type": "code",
   "execution_count": null,
   "id": "1444b45f",
   "metadata": {},
   "outputs": [],
   "source": [
    "# from IPython.display import Video\n",
    "\n",
    "# Display the created movie within the notebook. Might to add \"embed=True\" to enable videos directly into a Jupyter Notebook\n",
    "Video(solar_movie_example) "
   ]
  }
 ],
 "metadata": {
  "kernelspec": {
   "display_name": "Python 3 (ipykernel)",
   "language": "python",
   "name": "python3"
  },
  "language_info": {
   "codemirror_mode": {
    "name": "ipython",
    "version": 3
   },
   "file_extension": ".py",
   "mimetype": "text/x-python",
   "name": "python",
   "nbconvert_exporter": "python",
   "pygments_lexer": "ipython3",
   "version": "3.8.5"
  }
 },
 "nbformat": 4,
 "nbformat_minor": 5
}
