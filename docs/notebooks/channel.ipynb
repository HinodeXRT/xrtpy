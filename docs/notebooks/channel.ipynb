{
 "cells": [
  {
   "cell_type": "markdown",
   "metadata": {},
   "source": [
    "# Channel Properties"
   ]
  },
  {
   "cell_type": "markdown",
   "metadata": {},
   "source": [
    "We will explore the X-Ray Telescope (XRT) instrument properties using XRTpy's `Channel` object."
   ]
  },
  {
   "cell_type": "code",
   "execution_count": 1,
   "metadata": {},
   "outputs": [],
   "source": [
    "import xrtpy"
   ]
  },
  {
   "cell_type": "markdown",
   "metadata": {},
   "source": [
    "[X-Ray Filter Channel]: https://xrtpy.readthedocs.io/en/latest\n",
    "\n",
    "Begin by defining a filter channel by its common abbreviation. In this example we will be exploring the titanium-on-polyimide filter. Reference the [X-Ray Filter Channel] for filter channel information."
   ]
  },
  {
   "cell_type": "code",
   "execution_count": 2,
   "metadata": {},
   "outputs": [],
   "source": [
    "filter = \"Ti-poly\""
   ]
  },
  {
   "cell_type": "markdown",
   "metadata": {},
   "source": [
    "Create an `xrtpy.response.Channel` object by inserting `filter` as an input."
   ]
  },
  {
   "cell_type": "code",
   "execution_count": 3,
   "metadata": {},
   "outputs": [],
   "source": [
    "channel = xrtpy.response.Channel(filter)"
   ]
  },
  {
   "cell_type": "markdown",
   "metadata": {},
   "source": [
    "Now that we have created our `Channel` object. We can explore the XRT instruments and properties. Let's begin by looking into basic information about the XRT instrument."
   ]
  },
  {
   "cell_type": "code",
   "execution_count": 4,
   "metadata": {},
   "outputs": [
    {
     "name": "stdout",
     "output_type": "stream",
     "text": [
      "Chosen filter: Ti-poly\n",
      "Observatory: Hinode\n",
      "Instrument: XRT\n"
     ]
    }
   ],
   "source": [
    "print(\"Chosen filter:\", channel.name)\n",
    "print(\"Observatory:\", channel.observatory)\n",
    "print(\"Instrument:\", channel.instrument)"
   ]
  },
  {
   "cell_type": "markdown",
   "metadata": {},
   "source": [
    "**Note: most instrument properties of the XRT are the same independent of filter.**"
   ]
  },
  {
   "cell_type": "markdown",
   "metadata": {},
   "source": [
    "## Contents\n",
    "\n",
    "1. [Charge-Coupled Device](#Charge-Coupled-Device-(CCD))\n",
    "2. [Entrance Filter](#Entrance-Filter) \n",
    "3. [Focus Filter 1 and 2](#Focus-Filter)\n",
    "4. [Geometry](#Geometry)\n",
    "5. [Mirror 1 and 2](#Mirror)\n",
    "6. [Instrument Plotting](#Instrument-Plotting)"
   ]
  },
  {
   "cell_type": "markdown",
   "metadata": {},
   "source": [
    "## Charge-Coupled-Device (CCD)"
   ]
  },
  {
   "cell_type": "markdown",
   "metadata": {},
   "source": [
    "We can look at `channel.ccd` to review properties of the XRT CCD camera."
   ]
  },
  {
   "cell_type": "code",
   "execution_count": 5,
   "metadata": {},
   "outputs": [
    {
     "name": "stdout",
     "output_type": "stream",
     "text": [
      "Hinode/XRT Flight Model CCD\n",
      "Pixel size:  13.5 micron\n",
      "Full well:  222000.0 electron\n",
      "Gain left:  58.79999923706055 electron\n",
      "Gain right:  59.099998474121094 electron\n",
      "eV per electron:  3.6500000953674316 eV / electron\n"
     ]
    }
   ],
   "source": [
    "print(channel.ccd.ccd_name)\n",
    "print(\"Pixel size: \", channel.ccd.ccd_pixel_size)\n",
    "print(\"Full well: \", channel.ccd.ccd_full_well)\n",
    "print(\"Gain left: \", channel.ccd.ccd_gain_left)\n",
    "print(\"Gain right: \", channel.ccd.ccd_gain_right)\n",
    "print(\"eV per electron: \", channel.ccd.ccd_energy_per_electron)"
   ]
  },
  {
   "cell_type": "markdown",
   "metadata": {},
   "source": [
    "## Entrance Filter"
   ]
  },
  {
   "cell_type": "markdown",
   "metadata": {},
   "source": [
    "We can explore the XRT entrance filter properties using `channel.entrancefilter`. "
   ]
  },
  {
   "cell_type": "code",
   "execution_count": 6,
   "metadata": {},
   "outputs": [
    {
     "name": "stdout",
     "output_type": "stream",
     "text": [
      "Entrance filters\n",
      "Material:  ['Al2O3' 'Al' 'Al2O3' 'polyimide']\n",
      "Thickness:  [  75. 1492.    0. 2030.] Angstrom\n",
      "Density:  [3.97  2.699 3.97  1.43 ] g / cm3\n"
     ]
    }
   ],
   "source": [
    "print(channel.entrancefilter.entrancefilter_name)\n",
    "print(\"Material: \", channel.entrancefilter.entrancefilter_material)\n",
    "print(\"Thickness: \", channel.entrancefilter.entrancefilter_thickness)\n",
    "print(\"Density: \", channel.entrancefilter.entrancefilter_density)"
   ]
  },
  {
   "cell_type": "markdown",
   "metadata": {},
   "source": [
    "## Focus-Filter"
   ]
  },
  {
   "cell_type": "markdown",
   "metadata": {},
   "source": [
    "[X-Ray Filter Channel]: https://xrtpy.readthedocs.io/en/latest\n",
    "\n",
    "We are able to explore detailed information of the chosen XRT filter channel using `channel.filter_#`, where `#` is filter wheel 1 or 2. The XRT data is recorded through nine X-ray filters using two filter wheels. Since titanium-on-polyimide is in filter wheel 2, we will be exploring `channel.filter_2.` Reference the [X-Ray Filter Channel] for filter channel information."
   ]
  },
  {
   "cell_type": "code",
   "execution_count": 7,
   "metadata": {},
   "outputs": [
    {
     "name": "stdout",
     "output_type": "stream",
     "text": [
      "Filter name:  Ti filter on polyimide\n",
      "Filter material:  ['TiO2' 'Ti' 'TiO2' 'polyimide']\n",
      "Thickness:  [  75. 2338.    0. 2522.] Angstrom\n",
      "Density:  [4.26 4.54 4.26 1.43] g / cm3\n"
     ]
    }
   ],
   "source": [
    "print(\"Filter name: \", channel.filter_2.filter_name)\n",
    "print(\"Filter material: \", channel.filter_2.filter_material)\n",
    "print(\"Thickness: \", channel.filter_2.filter_thickness)\n",
    "print(\"Density: \", channel.filter_2.filter_density)"
   ]
  },
  {
   "cell_type": "markdown",
   "metadata": {},
   "source": [
    "## Geometry"
   ]
  },
  {
   "cell_type": "markdown",
   "metadata": {},
   "source": [
    "We can explore geometry factors in the XRT using `channel.geometry`."
   ]
  },
  {
   "cell_type": "code",
   "execution_count": 8,
   "metadata": {},
   "outputs": [
    {
     "name": "stdout",
     "output_type": "stream",
     "text": [
      "Hinode/XRT Flight Model geometry\n",
      "Focal length: 270.753 cm\n",
      "Aperture Area: 2.28 cm2\n"
     ]
    }
   ],
   "source": [
    "print(channel.geometry.geometry_name)\n",
    "print(\"Focal length:\", channel.geometry.geometry_focal_len)\n",
    "print(\"Aperture Area:\", channel.geometry.geometry_aperture_area)"
   ]
  },
  {
   "cell_type": "markdown",
   "metadata": {},
   "source": [
    "## Mirror"
   ]
  },
  {
   "cell_type": "markdown",
   "metadata": {},
   "source": [
    "XRTpy offers the ability to inspect the first and second surface mirror.\n",
    "Mirror 1 and 2 are distinguish by the defining structure `channel_mirror_#`, where `#` is the first or second mirror surface. For this example we will explore a few XRT properties on the surface of mirror 1 using `channel_mirror_1`."
   ]
  },
  {
   "cell_type": "code",
   "execution_count": 9,
   "metadata": {},
   "outputs": [
    {
     "name": "stdout",
     "output_type": "stream",
     "text": [
      "Hinode/XRT Flight Model mirror\n",
      "Material:  Zerodur\n",
      "Density:  2.5299999713897705 g / cm3\n",
      "Graze_angle:  0.9100000262260437 deg\n"
     ]
    }
   ],
   "source": [
    "print(channel.mirror_1.mirror_name)\n",
    "print(\"Material: \", channel.mirror_1.mirror_material)\n",
    "print(\"Density: \", channel.mirror_1.mirror_density)\n",
    "print(\"Graze_angle: \", channel.mirror_1.mirror_graze_angle)"
   ]
  },
  {
   "cell_type": "markdown",
   "metadata": {},
   "source": [
    "## Instrument Plotting"
   ]
  },
  {
   "cell_type": "markdown",
   "metadata": {},
   "source": [
    "### Plotting XRT properties - Transmittance"
   ]
  },
  {
   "cell_type": "markdown",
   "metadata": {},
   "source": [
    "Define the XRT transmission in `channel` by referencing transmission."
   ]
  },
  {
   "cell_type": "code",
   "execution_count": 10,
   "metadata": {},
   "outputs": [],
   "source": [
    "transmission = channel.transmission"
   ]
  },
  {
   "cell_type": "markdown",
   "metadata": {},
   "source": [
    "Next, define the XRT wavelength in `channel` by referencing wavelength."
   ]
  },
  {
   "cell_type": "code",
   "execution_count": 11,
   "metadata": {},
   "outputs": [],
   "source": [
    "wavelength = channel.wavelength"
   ]
  },
  {
   "cell_type": "markdown",
   "metadata": {},
   "source": [
    "Create a plotting function that plots the `transmission` versus `wavelength`. "
   ]
  },
  {
   "cell_type": "code",
   "execution_count": 12,
   "metadata": {},
   "outputs": [],
   "source": [
    "import matplotlib.pyplot as plt\n",
    "\n",
    "\n",
    "def plot_transmission(channel):\n",
    "\n",
    "    plt.figure(figsize=(10, 6))\n",
    "\n",
    "    plt.plot(wavelength, transmission, label=f\"{channel.name}\")\n",
    "\n",
    "    plt.title(\"X-Ray Telescope\", fontsize=15)\n",
    "    plt.xlabel(r\"$\\lambda$ [Å]\", fontsize=15)\n",
    "    plt.ylabel(\"transmittance\", fontsize=15)\n",
    "    plt.legend(fontsize=20)\n",
    "    plt.xlim(-5, 80)\n",
    "    plt.xticks(fontsize=15)\n",
    "    plt.yticks(fontsize=15)\n",
    "\n",
    "    plt.grid(color=\"lightgrey\")\n",
    "    plt.show()"
   ]
  },
  {
   "cell_type": "markdown",
   "metadata": {},
   "source": [
    "Call the `plot_transmission` function to create the plot."
   ]
  },
  {
   "cell_type": "code",
   "execution_count": 14,
   "metadata": {
    "tags": [
     "nbsphinx-thumbnail"
    ]
   },
   "outputs": [
    {
     "data": {
      "image/png": "[encoded data removed]",
      "text/plain": [
       "<Figure size 720x432 with 1 Axes>"
      ]
     },
     "metadata": {
      "needs_background": "light"
     },
     "output_type": "display_data"
    }
   ],
   "source": [
    "plot_transmission(channel)"
   ]
  }
 ],
 "metadata": {
  "celltoolbar": "Tags",
  "kernelspec": {
   "display_name": "Python 3",
   "language": "python",
   "name": "python3"
  },
  "language_info": {
   "codemirror_mode": {
    "name": "ipython",
    "version": 3
   },
   "file_extension": ".py",
   "mimetype": "text/x-python",
   "name": "python",
   "nbconvert_exporter": "python",
   "pygments_lexer": "ipython3",
   "version": "3.8.5"
  }
 },
 "nbformat": 4,
 "nbformat_minor": 4
}
