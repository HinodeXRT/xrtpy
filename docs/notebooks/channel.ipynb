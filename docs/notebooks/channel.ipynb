{
 "cells": [
  {
   "cell_type": "markdown",
   "metadata": {},
   "source": [
    "# Channel Properties"
   ]
  },
  {
   "cell_type": "markdown",
   "metadata": {},
   "source": [
    "We will explore the X-Ray Telescope (XRT) instrument properties using XRTpy's Channel object."
   ]
  },
  {
   "cell_type": "code",
   "execution_count": null,
   "metadata": {},
   "outputs": [],
   "source": [
    "import xrtpy"
   ]
  },
  {
   "cell_type": "markdown",
   "metadata": {},
   "source": [
    "[xrtpy]: https://xrtpy.readthedocs.io/en/latest\n",
    "\n",
    "Begin by defining a filter channel by its common abbreviation. In this example we will be exploring the titanium-on-polyimide filter. Reference [xrtpy] for filter information."
   ]
  },
  {
   "cell_type": "code",
   "execution_count": null,
   "metadata": {},
   "outputs": [],
   "source": [
    "Filter = \"Ti-poly\""
   ]
  },
  {
   "cell_type": "markdown",
   "metadata": {},
   "source": [
    "Create a Channel object in `xrtpy.response.Channel` by inserting `Filter` as an input."
   ]
  },
  {
   "cell_type": "code",
   "execution_count": null,
   "metadata": {},
   "outputs": [],
   "source": [
    "channel = xrtpy.response.Channel(Filter)"
   ]
  },
  {
   "cell_type": "markdown",
   "metadata": {},
   "source": [
    "Now that we have created our `channel` object. We can explore the XRT instruments and properties. Lets begin by looking into basic information about the XRT instrument. "
   ]
  },
  {
   "cell_type": "code",
   "execution_count": null,
   "metadata": {},
   "outputs": [],
   "source": [
    "print(\"Chosen filter:\", channel.name)\n",
    "print(\"\\nObservatory:\", channel.observatory)\n",
    "print(\"Instrument:\", channel.instrument)"
   ]
  },
  {
   "cell_type": "markdown",
   "metadata": {},
   "source": [
    "## Contents\n",
    "\n",
    "1. [Charge-Coupled Device](#Charge-Coupled-Device-(CCD))\n",
    "2. [Entrance Filter](#Entrance-Filter) \n",
    "3. [Filter 1 and 2](#Filter)\n",
    "4. [Geometry](#Geometry)\n",
    "5. [Mirror 1 and 2](#Mirror)\n",
    "6. [Instrument Plotting](#Instrument-Plotting)"
   ]
  },
  {
   "cell_type": "markdown",
   "metadata": {},
   "source": [
    "## Charge-Coupled-Device (CCD)"
   ]
  },
  {
   "cell_type": "markdown",
   "metadata": {},
   "source": [
    "The `channel.ccd` object reviews properties of the XRT CCD camera. "
   ]
  },
  {
   "cell_type": "code",
   "execution_count": null,
   "metadata": {},
   "outputs": [],
   "source": [
    "print(channel.ccd.ccd_name)\n",
    "\n",
    "print(\"\\nPixel size: \", channel.ccd.ccd_pixel_size)\n",
    "\n",
    "print(\"Full well: \", channel.ccd.ccd_full_well)\n",
    "print(\"Gain left: \", channel.ccd.ccd_gain_left)\n",
    "print(\"Gain right: \", channel.ccd.ccd_gain_right)\n",
    "print(\"eV pre electron: \", channel.ccd.ccd_energy_per_electron)"
   ]
  },
  {
   "cell_type": "markdown",
   "metadata": {},
   "source": [
    "## Entrance Filter"
   ]
  },
  {
   "cell_type": "markdown",
   "metadata": {},
   "source": [
    "We can explore the XRT entrance filter properties using `channel.entrancefilter` . "
   ]
  },
  {
   "cell_type": "code",
   "execution_count": null,
   "metadata": {},
   "outputs": [],
   "source": [
    "print(channel.entrancefilter.entrancefilter_name)\n",
    "\n",
    "print(\"\\nMaterial: \", channel.entrancefilter.entrancefilter_material)\n",
    "print(\"Thickness: \", channel.entrancefilter.entrancefilter_thickness)\n",
    "print(\"Density\", channel.entrancefilter.entrancefilter_density)"
   ]
  },
  {
   "cell_type": "markdown",
   "metadata": {},
   "source": [
    "## Filter"
   ]
  },
  {
   "cell_type": "markdown",
   "metadata": {},
   "source": [
    "[xrtpy]: https://xrtpy.readthedocs.io/en/latest\n",
    "\n",
    "The XRT data is recorded through nine X-ray filters using two filter wheels. We are able to explore detailed information of the chosen xrt channel filter using `channel.filter_#`, where '#' is filter wheel 1 or 2. Since titanium-on-polyimide is in filter wheel 2, we will be exploring `channel.filter_2.`  Exploring the other filter will yield \"Open\". Reference [xrtpy] for filter information.\n"
   ]
  },
  {
   "cell_type": "code",
   "execution_count": null,
   "metadata": {},
   "outputs": [],
   "source": [
    "print(\"Filter Wheel:\", channel.filter_2.filter_name)\n",
    "print(\"\\nFilter material:\", channel.filter_2.filter_material)\n",
    "print(\"Thickness: \", channel.filter_2.filter_thickness)\n",
    "print(\"Density: \", channel.filter_2.filter_density)"
   ]
  },
  {
   "cell_type": "markdown",
   "metadata": {},
   "source": [
    "## Geometry"
   ]
  },
  {
   "cell_type": "markdown",
   "metadata": {},
   "source": [
    "We can explore geometry factors in the XRT using `channel.geometry`."
   ]
  },
  {
   "cell_type": "code",
   "execution_count": null,
   "metadata": {},
   "outputs": [],
   "source": [
    "print(channel.geometry.geometry_name)\n",
    "print(\"\\nFocal length:\", channel.geometry.geometry_focal_len)\n",
    "print(\"Aperture Area:\", channel.geometry.geometry_aperture_area)"
   ]
  },
  {
   "cell_type": "markdown",
   "metadata": {},
   "source": [
    "## Mirror"
   ]
  },
  {
   "cell_type": "markdown",
   "metadata": {},
   "source": [
    "Mirror 1 and 2 have the same defining structure `channel_mirror_#`, where '#' is the first or second mirror surface. For this example we will explore a few xrt properties on the surface of mirror 1 using `channel_mirror_1`. Reference Getting Start- sections *** for information about the XRT mirrors.\n"
   ]
  },
  {
   "cell_type": "code",
   "execution_count": null,
   "metadata": {},
   "outputs": [],
   "source": [
    "print(channel.mirror_1.mirror_name)\n",
    "\n",
    "print(\"\\nDensity: \", channel.mirror_1.mirror_density)\n",
    "print(\"Graze_angle: \", channel.mirror_1.mirror_graze_angle)\n",
    "print(\"Material: \", channel.mirror_1.mirror_material)"
   ]
  },
  {
   "cell_type": "markdown",
   "metadata": {},
   "source": [
    "## Instrument Plotting"
   ]
  },
  {
   "cell_type": "markdown",
   "metadata": {},
   "source": [
    "### Plotting XRT properties - Transmittance"
   ]
  },
  {
   "cell_type": "markdown",
   "metadata": {},
   "source": [
    "Define the XRT transmission in `channel` by referencing transmission."
   ]
  },
  {
   "cell_type": "code",
   "execution_count": null,
   "metadata": {},
   "outputs": [],
   "source": [
    "transmission = channel.transmission"
   ]
  },
  {
   "cell_type": "markdown",
   "metadata": {},
   "source": [
    "Define the XRT wavelength in `channel` by referencing wavelength."
   ]
  },
  {
   "cell_type": "code",
   "execution_count": null,
   "metadata": {},
   "outputs": [],
   "source": [
    "wavelength = channel.wavelength"
   ]
  },
  {
   "cell_type": "markdown",
   "metadata": {},
   "source": [
    "Create a plotting function that plots the `transmission` versus `wavelength`. "
   ]
  },
  {
   "cell_type": "code",
   "execution_count": null,
   "metadata": {},
   "outputs": [],
   "source": [
    "def plot_transmission():\n",
    "    import matplotlib.pyplot as plt\n",
    "\n",
    "    plt.figure(figsize=(10, 6))\n",
    "\n",
    "    plt.plot(wavelength, transmission, label=f\"{channel.name}\")\n",
    "\n",
    "    plt.title(\"X-Ray Telescope\", fontsize=15)\n",
    "    plt.xlabel(r\"$\\lambda$ [Å]\", fontsize=15)\n",
    "    plt.ylabel(r\"Transmittance\", fontsize=15)\n",
    "    plt.legend(fontsize=20)\n",
    "    plt.xlim(-5, 80)\n",
    "    plt.xticks(fontsize=15)\n",
    "    plt.yticks(fontsize=15)\n",
    "\n",
    "    plt.grid(color=\"lightgrey\")\n",
    "    plt.show()"
   ]
  },
  {
   "cell_type": "markdown",
   "metadata": {},
   "source": [
    "Run `plot_transmission` function to create the plot."
   ]
  },
  {
   "cell_type": "code",
   "execution_count": null,
   "metadata": {},
   "outputs": [],
   "source": [
    "plot_transmission()"
   ]
  }
 ],
 "metadata": {
  "kernelspec": {
   "display_name": "Python 3",
   "language": "python",
   "name": "python3"
  },
  "language_info": {
   "codemirror_mode": {
    "name": "ipython",
    "version": 3
   },
   "file_extension": ".py",
   "mimetype": "text/x-python",
   "name": "python",
   "nbconvert_exporter": "python",
   "pygments_lexer": "ipython3",
   "version": "3.8.5"
  }
 },
 "nbformat": 4,
 "nbformat_minor": 4
}
