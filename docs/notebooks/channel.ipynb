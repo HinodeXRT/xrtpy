{
 "cells": [
  {
   "cell_type": "markdown",
   "metadata": {},
   "source": [
    "# Channel Properties"
   ]
  },
  {
   "cell_type": "markdown",
   "metadata": {},
   "source": [
    "This notebook explores the Channel properties about the X-Ray Telescope (XRT) instrument. "
   ]
  },
  {
   "cell_type": "code",
   "execution_count": null,
   "metadata": {},
   "outputs": [],
   "source": [
    "import xrtpy "
   ]
  },
  {
   "cell_type": "markdown",
   "metadata": {},
   "source": [
    "Begin by defining a filter channel by its abbreviation. For example, if we want to explore Titanium 'Ti' Polyimide 'Poly'. The abbreviation would be 'Ti-poly'. The process is the same for all xrt filters. "
   ]
  },
  {
   "cell_type": "code",
   "execution_count": null,
   "metadata": {},
   "outputs": [],
   "source": [
    "Filter = \"Ti-poly\""
   ]
  },
  {
   "cell_type": "markdown",
   "metadata": {},
   "source": [
    "Create a Channel object in `xrtpy.response.Channel` by inserting `Filter` as an input."
   ]
  },
  {
   "cell_type": "code",
   "execution_count": null,
   "metadata": {},
   "outputs": [],
   "source": [
    "channel =  xrtpy.response.Channel(Filter)"
   ]
  },
  {
   "cell_type": "markdown",
   "metadata": {},
   "source": [
    "Now that we have created our `channel` object by selecting 'Ti-poly' as our filter of choice. We can explore the XRT instruments and properties. We can print basic information about the XRT instrument. "
   ]
  },
  {
   "cell_type": "code",
   "execution_count": null,
   "metadata": {},
   "outputs": [],
   "source": [
    "print(\"Choosen filter:\",channel.name)\n",
    "print(\"\\nObservatory:\",channel.observatory)\n",
    "print(\"Instrument:\",channel.instrument)"
   ]
  },
  {
   "cell_type": "markdown",
   "metadata": {},
   "source": [
    "## Contents\n",
    "\n",
    "1. [Charge-Coupled Device](#Charge-Coupled-Device-(CCD))\n",
    "2. [Entrance Filter](#Entrance-Filter) \n",
    "3. [Filter 1 and 2](#Filter)\n",
    "4. [Geometry](#Geometry)\n",
    "5. [Mirror 1 and 2](#Mirror)\n",
    "6. [Instrument Plotting](#Instrument-Plotting)"
   ]
  },
  {
   "cell_type": "markdown",
   "metadata": {},
   "source": [
    "## Charge-Coupled-Device (CCD)"
   ]
  },
  {
   "cell_type": "markdown",
   "metadata": {},
   "source": [
    "The `channel.ccd` object reviews properties of the xrt ccd camera. "
   ]
  },
  {
   "cell_type": "code",
   "execution_count": null,
   "metadata": {},
   "outputs": [],
   "source": [
    "print(channel.ccd.ccd_name)\n",
    "\n",
    "print('\\nPixel size: ',channel.ccd.ccd_pixel_size)\n",
    "\n",
    "print('Full well: ',channel.ccd.ccd_full_well)\n",
    "print('Gain left: ',channel.ccd.ccd_gain_left)\n",
    "print('Gain right: ',channel.ccd.ccd_gain_right)\n",
    "print('eV pre electron: ',channel.ccd.ccd_ev_pre_electron)"
   ]
  },
  {
   "cell_type": "markdown",
   "metadata": {},
   "source": [
    "## Entrance Filter"
   ]
  },
  {
   "cell_type": "markdown",
   "metadata": {},
   "source": [
    "We can explore xrt entrance filter properties using `channel.entrancefilter` . "
   ]
  },
  {
   "cell_type": "code",
   "execution_count": null,
   "metadata": {},
   "outputs": [],
   "source": [
    "print(channel.entrancefilter.entrancefilter_name)\n",
    "\n",
    "print('\\nMaterial: ',channel.entrancefilter.entrancefilter_material)\n",
    "print('Thickness: ',channel.entrancefilter.entrancefilter_thickness)\n",
    "print('Density',channel.entrancefilter.entrancefilter_density)"
   ]
  },
  {
   "cell_type": "markdown",
   "metadata": {},
   "source": [
    "## Filter"
   ]
  },
  {
   "cell_type": "markdown",
   "metadata": {},
   "source": [
    "The XRT data is recorded through nine X-ray filters using two filter wheels. We are able to explore detailed information of the chosen xrt channel filter using `channel.filter_#`, where '#' is filter 1 or 2. Since 'Ti-poly' is in the filter wheel 2, we will be exploring `channel.filter_2.`\n",
    "\n",
    "The existing filters are structures as so:\n",
    "\n",
    "1. Filter Wheel 1 position: \n",
    "    -  Open\n",
    "    -  Al poly\n",
    "    -  C poly\n",
    "    -  Be thin \n",
    "    -  Be med\n",
    "    -  Al med\n",
    "2. Filter Wheel 2 position \n",
    "    -  Open\n",
    "    -  Al mesh\n",
    "    -  Ti poly\n",
    "    -  Gband\n",
    "    -  Al thick\n",
    "    -  Be thick\n"
   ]
  },
  {
   "cell_type": "code",
   "execution_count": null,
   "metadata": {},
   "outputs": [],
   "source": [
    "print(channel.filter_2.filter_name)\n",
    "\n",
    "print('\\nFilter material:',channel.filter_2.filter_material)\n",
    "print('Thickness: ',channel.filter_2.filter_thickness)\n",
    "print('Density: ',channel.filter_2.filter_density)"
   ]
  },
  {
   "cell_type": "markdown",
   "metadata": {},
   "source": [
    "While exploring a single filter. We can simultaneously examine `channel.filter_1`. The other filter-wheel filter will yield \"Open\". This means the wheel does not have an overlapping filter. In case we want to explore two filters. Re-define `Filter` to have two filters. A filter from filter-wheel 1 and the other from filter-wheel 2. For example, if we want Al-poly and Ti-poly. Then `Filter` will be defined as 'Al-poly/Ti-poly'. The same structure applies to other filter structures. "
   ]
  },
  {
   "cell_type": "code",
   "execution_count": null,
   "metadata": {},
   "outputs": [],
   "source": [
    "print(channel.filter_1.filter_name)\n",
    "\n",
    "print('\\nFilter material:',channel.filter_1.filter_material)\n",
    "print('Thickness: ',channel.filter_1.filter_thickness)\n",
    "print('Density: ',channel.filter_1.filter_density)"
   ]
  },
  {
   "cell_type": "markdown",
   "metadata": {},
   "source": [
    "## Geometry"
   ]
  },
  {
   "cell_type": "markdown",
   "metadata": {},
   "source": [
    "We can explore geometry factors in xrt using `channel.geometry`."
   ]
  },
  {
   "cell_type": "code",
   "execution_count": null,
   "metadata": {},
   "outputs": [],
   "source": [
    "print(channel.geometry.geometry_name)\n",
    "print('\\nFocal length:',channel.geometry.geometry_focal_len)\n",
    "print('Aperture Area:',channel.geometry.geometry_aperture_area)"
   ]
  },
  {
   "cell_type": "markdown",
   "metadata": {},
   "source": [
    "## Mirror"
   ]
  },
  {
   "cell_type": "markdown",
   "metadata": {},
   "source": [
    "Mirror 1 and 2 have the same defining structure `channel_mirror_#`, where '#' is the first or second mirror surface. For this example we will explore a few xrt properties on the surface of mirror 1 using `channel_mirror_1`. "
   ]
  },
  {
   "cell_type": "code",
   "execution_count": null,
   "metadata": {},
   "outputs": [],
   "source": [
    "print(channel.mirror_1.mirror_name)\n",
    "\n",
    "print( '\\nDensity: ' ,channel.mirror_1.mirror_density)\n",
    "print( 'Graze_angle: ' ,channel.mirror_1.mirror_graze_angle)\n",
    "print( 'Material: ' ,channel.mirror_1.mirror_material)"
   ]
  },
  {
   "cell_type": "markdown",
   "metadata": {},
   "source": [
    "## Instrument Plotting"
   ]
  },
  {
   "cell_type": "markdown",
   "metadata": {},
   "source": [
    "### Plotting XRT properties - Transmittance"
   ]
  },
  {
   "cell_type": "markdown",
   "metadata": {},
   "source": [
    "Define the xrt transmission in `channel` by referencing transmission."
   ]
  },
  {
   "cell_type": "code",
   "execution_count": null,
   "metadata": {},
   "outputs": [],
   "source": [
    "transmission= channel.transmission"
   ]
  },
  {
   "cell_type": "markdown",
   "metadata": {},
   "source": [
    "Define the xrt wavelength in `channel` by referencing wavelength."
   ]
  },
  {
   "cell_type": "code",
   "execution_count": null,
   "metadata": {},
   "outputs": [],
   "source": [
    "wavelength = channel.wavelength "
   ]
  },
  {
   "cell_type": "markdown",
   "metadata": {},
   "source": [
    "Create a plotting function that plots the `transmission` versus `wavelength`. "
   ]
  },
  {
   "cell_type": "code",
   "execution_count": null,
   "metadata": {},
   "outputs": [],
   "source": [
    "def plot_transmission():\n",
    "    import matplotlib.pyplot as plt\n",
    "    plt.figure(figsize=(10, 6))\n",
    "\n",
    "    plt.plot(wavelength,transmission,label=f'{channel.name}')\n",
    "    \n",
    "    plt.title('X-Ray Telescope',fontsize = 15)\n",
    "    plt.xlabel(r'$\\lambda$ [Å]',fontsize = 15)\n",
    "    plt.ylabel(r'Transmittance',fontsize=15)\n",
    "    plt.legend(fontsize=20)\n",
    "    plt.xlim(-5,80)\n",
    "    plt.xticks(fontsize=15)\n",
    "    plt.yticks(fontsize=15)\n",
    "\n",
    "\n",
    "    plt.grid(color='lightgrey')\n",
    "    plt.show()  \n"
   ]
  },
  {
   "cell_type": "markdown",
   "metadata": {},
   "source": [
    "Run `plot_transmission` function to create the plot."
   ]
  },
  {
   "cell_type": "code",
   "execution_count": null,
   "metadata": {},
   "outputs": [],
   "source": [
    "plot_transmission()"
   ]
  }
 ],
 "metadata": {
  "kernelspec": {
   "display_name": "Python 3",
   "language": "python",
   "name": "python3"
  },
  "language_info": {
   "codemirror_mode": {
    "name": "ipython",
    "version": 3
   },
   "file_extension": ".py",
   "mimetype": "text/x-python",
   "name": "python",
   "nbconvert_exporter": "python",
   "pygments_lexer": "ipython3",
   "version": "3.8.5"
  }
 },
 "nbformat": 4,
 "nbformat_minor": 4
}
