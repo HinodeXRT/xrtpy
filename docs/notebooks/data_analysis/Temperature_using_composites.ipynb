{
 "cells": [
  {
   "cell_type": "markdown",
   "id": "8ab4c43e-0de0-4219-bef6-d3d03c72f534",
   "metadata": {},
   "source": [
    "# Deriving temperatures using composite images and the filter ratio method"
   ]
  },
  {
   "attachments": {},
   "cell_type": "markdown",
   "id": "03ed56d8-417f-4744-b3c7-0d19d221cc54",
   "metadata": {},
   "source": [
    "The temperature_from_filter_ratio routine in XTRpy derives the temperature and emission measure in XRT images by using two images taken at nearly the same time but using different filters. When doing this you can use standard XRT Level 1 data files or you can use \"composite\" images. Composite images are created from two or three images taken sequentially with the same pointing and filter but with different exposure times. Generally one wants to use either a long and short pair of exposures or a long-medium-short triple of exposures. Such composite images are made routinely for the synoptic archive of Hinode. The idea behind composite images is that pixels in the image that are saturated in the long exposure are replaced by pixels from the short (or medium) exposure that are not saturated and thus create an image with a greater dynamic range than you would get with a single image. "
   ]
  },
  {
   "cell_type": "markdown",
   "id": "2a40e669-d595-473c-823d-2a4be9bc4d32",
   "metadata": {},
   "source": [
    "We start by importing `temperature_from_filter_ratio`."
   ]
  },
  {
   "cell_type": "code",
   "execution_count": null,
   "id": "c7aec0e6-8fab-4e30-851b-e336481e6508",
   "metadata": {},
   "outputs": [],
   "source": [
    "from xrtpy.response.temperature_from_filter_ratio import temperature_from_filter_ratio"
   ]
  },
  {
   "cell_type": "markdown",
   "id": "e745d701-e31a-43df-a04d-dc393a7c3330",
   "metadata": {},
   "source": [
    "To use composite images, we need to generate their exposure maps, which are images where each pixel value is the exposure time of the image from which the pixel came. Most of the pixels will generally be from the long exposure image, but for the brightest part of the image, the pixels will come from the medium or short exposure image that was used to generate the composite image. The composite images that we'll use can be downloaded from the XRT archive."
   ]
  },
  {
   "cell_type": "markdown",
   "id": "00119f24-c4eb-4c48-9e49-c63349e4c77d",
   "metadata": {},
   "source": [
    "For this example we will use the download_file utility from astropy to download the composites files. We also use the routine filename2repopath from XRTpy to find the correct url for each file to be downloaded."
   ]
  },
  {
   "cell_type": "code",
   "execution_count": null,
   "id": "9e2651b8-db49-4508-a2c7-5b4fdbdd2f23",
   "metadata": {},
   "outputs": [],
   "source": [
    "from astropy.utils.data import download_file\n",
    "\n",
    "from xrtpy.util.filename2repo_path import filename2repo_path\n",
    "\n",
    "filename1 = \"comp_XRT20210730_175810.1.fits\"\n",
    "filename2 = \"comp_XRT20210730_175831.6.fits\"\n",
    "url1 = filename2repo_path(filename1, join=True)\n",
    "url2 = filename2repo_path(filename2, join=True)\n",
    "# These files will go under your astropy cache directory, typically ~/.astropy/cache/download/url/\n",
    "file1 = download_file(url1)\n",
    "file2 = download_file(url2)"
   ]
  },
  {
   "cell_type": "markdown",
   "id": "bd1cbd6a-940e-4e9d-ae72-e559a38f0c32",
   "metadata": {},
   "source": [
    "Then we need to calculate the exposure maps, which will be used with temperature_from_filter_ratio."
   ]
  },
  {
   "cell_type": "code",
   "execution_count": null,
   "id": "9bb1f2a4-dc0b-46ef-8b1d-e5f1db65fc8e",
   "metadata": {},
   "outputs": [],
   "source": [
    "from astropy.io import fits\n",
    "\n",
    "from xrtpy.util.make_exposure_map import make_exposure_map\n",
    "\n",
    "expmap1 = make_exposure_map(file1)\n",
    "expmap2 = make_exposure_map(file2)"
   ]
  },
  {
   "cell_type": "markdown",
   "id": "f0ddab76-b4d7-4cba-8e48-a5613b88122f",
   "metadata": {},
   "source": [
    "Note that each call to this routine will result in more files being downloaded. Now we are ready to call temperature_from_filter_ratio. This routine takes Sunpy maps as input (not related to exposure maps)."
   ]
  },
  {
   "cell_type": "code",
   "execution_count": null,
   "id": "4cf09b25-ce70-4c8f-9266-9b506291aebe",
   "metadata": {},
   "outputs": [],
   "source": [
    "from sunpy.map import Map\n",
    "\n",
    "map1 = Map(file1)\n",
    "map2 = Map(file2)\n",
    "T_EM = temperature_from_filter_ratio(map1, map2, expmap1=expmap1, expmap2=expmap2)"
   ]
  },
  {
   "cell_type": "markdown",
   "id": "96fb6a45-ec8c-48c2-8a1d-137bbc1983b5",
   "metadata": {},
   "source": [
    "temperature_from_filter_ratio returns a named tuple ofmaps: Tmap, EMmap, Terrmap, EMerrmap. To make a nice looking plot we matplotlib."
   ]
  },
  {
   "cell_type": "code",
   "execution_count": null,
   "id": "bbbe6460-bf1c-4002-bf86-d4ffe6c370c0",
   "metadata": {},
   "outputs": [],
   "source": [
    "import matplotlib.pyplot as plt\n",
    "\n",
    "fig = plt.figure()\n",
    "T_e = T_EM.Tmap\n",
    "m = Map(10.0**T_e.data, T_e.meta)\n",
    "m.plot(vmin=8.0e5, vmax=3.0e6, cmap=\"turbo\")\n",
    "m.draw_limb()\n",
    "m.draw_grid()\n",
    "cb = plt.colorbar()\n",
    "plt.show()"
   ]
  }
 ],
 "metadata": {
  "kernelspec": {
   "display_name": "Python 3 (ipykernel)",
   "language": "python",
   "name": "python3"
  },
  "language_info": {
   "codemirror_mode": {
    "name": "ipython",
    "version": 3
   },
   "file_extension": ".py",
   "mimetype": "text/x-python",
   "name": "python",
   "nbconvert_exporter": "python",
   "pygments_lexer": "ipython3",
   "version": "3.11.0"
  }
 },
 "nbformat": 4,
 "nbformat_minor": 5
}
