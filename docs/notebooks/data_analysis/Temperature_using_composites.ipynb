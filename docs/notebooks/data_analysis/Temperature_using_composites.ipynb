{
 "cells": [
  {
   "cell_type": "markdown",
   "id": "84f543ec",
   "metadata": {},
   "source": [
    "# Deriving temperatures using composite images and the filter ratio method"
   ]
  },
  {
   "cell_type": "markdown",
   "id": "210dadd6",
   "metadata": {},
   "source": [
    "The `temperature_from_filter_ratio` routine in XTRpy derives the temperature and emission measure in XRT images by using two images taken at nearly the same time but using different filters. When doing this you can use standard XRT Level 1 data files or you can use \"composite\" images. Composite images are created from two or three images taken sequentially with the same pointing and filter but with different exposure times. Generally one wants to use either a long and short pair of exposures or a long-medium-short triple of exposures. Such composite images are made routinely for the synoptic archive of Hinode. The idea behind composite images is that pixels in the image that are saturated in the long exposure are replaced by pixels from the short (or medium) exposure that are not saturated and thus create an image with a greater dynamic range than you would get with a single image."
   ]
  },
  {
   "cell_type": "markdown",
   "id": "a2a60e43",
   "metadata": {},
   "source": [
    "We start by importing `temperature_from_filter_ratio`."
   ]
  },
  {
   "cell_type": "markdown",
   "id": "03904c0f",
   "metadata": {},
   "source": [
    "To use composite images, we need to generate their exposure maps, which are images where each pixel value is the exposure time of the image from which the pixel came. Most of the pixels will generally be from the long exposure image, but for the brightest part of the image, the pixels will come from the medium or short exposure image that was used to generate the composite image. The composite images that we'll use can be downloaded from the XRT archive."
   ]
  },
  {
   "cell_type": "markdown",
   "id": "93c47f6b",
   "metadata": {},
   "source": [
    "For this example, we will use the `download_file` utility from `astropy` to download the composite files. We also use the routine `filename2repo_path` from `XRTpy` to find the correct URL for each file to be downloaded."
   ]
  },
  {
   "cell_type": "code",
   "execution_count": null,
   "id": "ef4d8a39",
   "metadata": {},
   "outputs": [],
   "source": [
    "from astropy.utils.data import download_file\n",
    "\n",
    "from xrtpy.response.temperature_from_filter_ratio import temperature_from_filter_ratio\n",
    "from xrtpy.util.filename2repo_path import filename2repo_path\n",
    "\n",
    "filename1 = \"comp_XRT20210730_175810.1.fits\"\n",
    "filename2 = \"comp_XRT20210730_175831.6.fits\"\n",
    "url1 = filename2repo_path(filename1, join=True)\n",
    "url2 = filename2repo_path(filename2, join=True)\n",
    "# These files will go under your astropy cache directory, typically ~/.astropy/cache/download/url/\n",
    "file1 = download_file(url1)\n",
    "file2 = download_file(url2)"
   ]
  },
  {
   "cell_type": "markdown",
   "id": "51b1846e",
   "metadata": {},
   "source": [
    "Then we need to calculate the exposure maps, which will be used with `temperature_from_filter_ratio`."
   ]
  },
  {
   "cell_type": "code",
   "execution_count": null,
   "id": "74e3e2d1",
   "metadata": {},
   "outputs": [],
   "source": [
    "from xrtpy.util.make_exposure_map import make_exposure_map\n",
    "\n",
    "expmap1 = make_exposure_map(file1)\n",
    "expmap2 = make_exposure_map(file2)"
   ]
  },
  {
   "cell_type": "markdown",
   "id": "a6374f89",
   "metadata": {},
   "source": [
    "Note that each call to this routine will result in more files being downloaded. Now we are ready to call `temperature_from_filter_ratio`. This routine takes Sunpy maps as input (not related to exposure maps)."
   ]
  },
  {
   "cell_type": "code",
   "execution_count": null,
   "id": "78cc7ab9",
   "metadata": {},
   "outputs": [],
   "source": [
    "from sunpy.map import Map\n",
    "\n",
    "map1 = Map(file1)\n",
    "map2 = Map(file2)\n",
    "T_EM = temperature_from_filter_ratio(map1, map2, expmap1=expmap1, expmap2=expmap2)"
   ]
  },
  {
   "cell_type": "markdown",
   "id": "49ec6f18",
   "metadata": {},
   "source": [
    "`temperature_from_filter_ratio` returns a named tuple of maps: Tmap, EMmap, Terrmap, EMerrmap. To make a nice looking plot, we use `matplotlib`."
   ]
  },
  {
   "cell_type": "code",
   "execution_count": null,
   "id": "4d3fd2bd",
   "metadata": {},
   "outputs": [],
   "source": [
    "import matplotlib.pyplot as plt\n",
    "\n",
    "fig = plt.figure()\n",
    "T_e = T_EM.Tmap\n",
    "m = Map(10.0**T_e.data, T_e.meta)\n",
    "m.plot(vmin=8.0e5, vmax=3.0e6, cmap=\"turbo\")\n",
    "m.draw_limb()\n",
    "m.draw_grid()\n",
    "cb = plt.colorbar()\n",
    "plt.show()"
   ]
  }
 ],
 "metadata": {
  "kernelspec": {
   "display_name": "Python 3 (ipykernel)",
   "language": "python",
   "name": "python3"
  },
  "language_info": {
   "codemirror_mode": {
    "name": "ipython",
    "version": 3
   },
   "file_extension": ".py",
   "mimetype": "text/x-python",
   "name": "python",
   "nbconvert_exporter": "python",
   "pygments_lexer": "ipython3",
   "version": "3.8.5"
  }
 },
 "nbformat": 4,
 "nbformat_minor": 5
}
