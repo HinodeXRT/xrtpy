{
 "cells": [
  {
   "cell_type": "markdown",
   "id": "a74f630b",
   "metadata": {},
   "source": [
    "# Using the `remove_lightleak` function to analyze XRT composite images"
   ]
  },
  {
   "cell_type": "markdown",
   "id": "1ad4f399",
   "metadata": {},
   "source": [
    "The `remove_lightleak` function is built to subtract light leak (visible stray light) image from XRT synoptic composite images. Level two synoptic composite image data is available at [xrt.cfa.harvard.edu](https://xrt.cfa.harvard.edu/data_products/index.php). This template will guide you through the method of using `remove_lightleak`."
   ]
  },
  {
   "cell_type": "markdown",
   "id": "5dfaf58c",
   "metadata": {},
   "source": [
    "Begin by importing `remove_lightleak` function from XRTpy."
   ]
  },
  {
   "cell_type": "code",
   "execution_count": null,
   "id": "bc3b75d9",
   "metadata": {},
   "outputs": [],
   "source": [
    "from pathlib import Path"
   ]
  },
  {
   "cell_type": "code",
   "execution_count": null,
   "id": "57a48df5",
   "metadata": {},
   "outputs": [],
   "source": [
    "import pkg_resources\n",
    "import sunpy.map\n",
    "\n",
    "from xrtpy.image_correction.remove_lightleak import remove_lightleak"
   ]
  },
  {
   "cell_type": "markdown",
   "id": "afe208c1",
   "metadata": {},
   "source": [
    "This example will be using XRT synoptic data from the first day of summer of 2015."
   ]
  },
  {
   "cell_type": "code",
   "execution_count": null,
   "id": "d9e2a205",
   "metadata": {},
   "outputs": [],
   "source": [
    "directory = pkg_resources.resource_filename(\n",
    "    \"xrtpy\", \"image_correction/data/example_data\"\n",
    ")\n",
    "data_file = Path(directory) / \"comp_XRT20150621_055911.7.fits\"\n",
    "\n",
    "print(\"File used:\\n\", data_file.name)"
   ]
  },
  {
   "cell_type": "markdown",
   "id": "1d1c92c7",
   "metadata": {},
   "source": [
    "Take on [`sunpy.map.Map`](https://docs.sunpy.org/en/stable/code_ref/map.html)  to run the composite data file."
   ]
  },
  {
   "cell_type": "code",
   "execution_count": null,
   "id": "e2a1f65c",
   "metadata": {},
   "outputs": [],
   "source": [
    "in_map = sunpy.map.Map(data_file)"
   ]
  },
  {
   "cell_type": "markdown",
   "id": "e1b239db",
   "metadata": {},
   "source": [
    "The `remove_lightleak` function takes a [`sunpy.map.Map`](https://docs.sunpy.org/en/stable/code_ref/map.html) as input and returns the composite image and metadata as a `Map`."
   ]
  },
  {
   "cell_type": "code",
   "execution_count": null,
   "id": "6144be5e",
   "metadata": {},
   "outputs": [],
   "source": [
    "out_map = remove_lightleak(in_map)"
   ]
  },
  {
   "cell_type": "code",
   "execution_count": null,
   "id": "bc66b8e2",
   "metadata": {},
   "outputs": [],
   "source": [
    "import matplotlib.pyplot as plt\n",
    "from matplotlib.colors import LogNorm\n",
    "\n",
    "fig = plt.figure()\n",
    "ax1 = fig.add_subplot(1, 2, 1, projection=in_map)\n",
    "in_map.plot(axes=ax1, title=\"Original Image\", norm=LogNorm(1.0, None))\n",
    "ax2 = fig.add_subplot(1, 2, 2, projection=out_map)\n",
    "out_map.plot(axes=ax2, title=\"Light Leak Subtracted Image\", norm=LogNorm(1.0, None))\n",
    "fig.subplots_adjust(wspace=0.5)\n",
    "plt.show()"
   ]
  }
 ],
 "metadata": {
  "kernelspec": {
   "display_name": "Python 3 (ipykernel)",
   "language": "python",
   "name": "python3"
  },
  "language_info": {
   "codemirror_mode": {
    "name": "ipython",
    "version": 3
   },
   "file_extension": ".py",
   "mimetype": "text/x-python",
   "name": "python",
   "nbconvert_exporter": "python",
   "pygments_lexer": "ipython3",
   "version": "3.8.5"
  }
 },
 "nbformat": 4,
 "nbformat_minor": 5
}
